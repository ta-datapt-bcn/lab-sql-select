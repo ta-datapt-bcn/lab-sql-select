{
 "cells": [
  {
   "cell_type": "markdown",
   "metadata": {},
   "source": [
    "# Challenge 1"
   ]
  },
  {
   "cell_type": "code",
   "execution_count": 2,
   "metadata": {
    "scrolled": true
   },
   "outputs": [],
   "source": [
    "%load_ext sql"
   ]
  },
  {
   "cell_type": "code",
   "execution_count": 3,
   "metadata": {
    "scrolled": true
   },
   "outputs": [
    {
     "data": {
      "text/plain": [
       "'Connected: @/Users//samue//Desktop//Bootcamp//lab-sql-select//publications.db'"
      ]
     },
     "execution_count": 3,
     "metadata": {},
     "output_type": "execute_result"
    }
   ],
   "source": [
    "%sql sqlite:////Users//samue//Desktop//Bootcamp//lab-sql-select//publications.db"
   ]
  },
  {
   "cell_type": "code",
   "execution_count": null,
   "metadata": {},
   "outputs": [],
   "source": [
    "# cHALLENGE 1"
   ]
  },
  {
   "cell_type": "code",
   "execution_count": 45,
   "metadata": {},
   "outputs": [
    {
     "name": "stdout",
     "output_type": "stream",
     "text": [
      " * sqlite:////Users//samue//Desktop//Bootcamp//lab-sql-select//publications.db\n",
      "Done.\n"
     ]
    },
    {
     "data": {
      "text/html": [
       "<table>\n",
       "    <thead>\n",
       "        <tr>\n",
       "            <th>AUTHOR ID</th>\n",
       "            <th>LAST NAME</th>\n",
       "            <th>FIRST NAME</th>\n",
       "            <th>TITLE</th>\n",
       "            <th>PUBLISHERS</th>\n",
       "        </tr>\n",
       "    </thead>\n",
       "    <tbody>\n",
       "        <tr>\n",
       "            <td>172-32-1176</td>\n",
       "            <td>White</td>\n",
       "            <td>Johnson</td>\n",
       "            <td>Prolonged Data Deprivation: Four Case Studies</td>\n",
       "            <td>New Moon Books</td>\n",
       "        </tr>\n",
       "        <tr>\n",
       "            <td>213-46-8915</td>\n",
       "            <td>Green</td>\n",
       "            <td>Marjorie</td>\n",
       "            <td>The Busy Executive&#x27;s Database Guide</td>\n",
       "            <td>Algodata Infosystems</td>\n",
       "        </tr>\n",
       "        <tr>\n",
       "            <td>213-46-8915</td>\n",
       "            <td>Green</td>\n",
       "            <td>Marjorie</td>\n",
       "            <td>You Can Combat Computer Stress!</td>\n",
       "            <td>New Moon Books</td>\n",
       "        </tr>\n",
       "    </tbody>\n",
       "</table>"
      ],
      "text/plain": [
       "[('172-32-1176', 'White', 'Johnson', 'Prolonged Data Deprivation: Four Case Studies', 'New Moon Books'),\n",
       " ('213-46-8915', 'Green', 'Marjorie', \"The Busy Executive's Database Guide\", 'Algodata Infosystems'),\n",
       " ('213-46-8915', 'Green', 'Marjorie', 'You Can Combat Computer Stress!', 'New Moon Books')]"
      ]
     },
     "execution_count": 45,
     "metadata": {},
     "output_type": "execute_result"
    }
   ],
   "source": [
    "%%sql\n",
    "select a.au_id as \"AUTHOR ID\",au_lname as \"LAST NAME\", au_fname as \"FIRST NAME\", title as TITLE, pub_name as \"PUBLISHERS\"\n",
    "from authors a \n",
    "inner join titleauthor ta on a.au_id = ta.au_id\n",
    "inner join titles t on ta.title_id = t.title_id\n",
    "inner join publishers p on t.pub_id = p.pub_id\n",
    "limit 3"
   ]
  },
  {
   "cell_type": "code",
   "execution_count": null,
   "metadata": {},
   "outputs": [],
   "source": [
    "# CHALLENGE 2"
   ]
  },
  {
   "cell_type": "code",
   "execution_count": 53,
   "metadata": {},
   "outputs": [
    {
     "name": "stdout",
     "output_type": "stream",
     "text": [
      " * sqlite:////Users//samue//Desktop//Bootcamp//lab-sql-select//publications.db\n",
      "Done.\n"
     ]
    },
    {
     "data": {
      "text/html": [
       "<table>\n",
       "    <thead>\n",
       "        <tr>\n",
       "            <th>AUTHOR ID</th>\n",
       "            <th>LAST NAME</th>\n",
       "            <th>FIRST NAME</th>\n",
       "            <th>PUBLISHER</th>\n",
       "            <th>TITLE COUNT</th>\n",
       "        </tr>\n",
       "    </thead>\n",
       "    <tbody>\n",
       "        <tr>\n",
       "            <td>409-56-7008</td>\n",
       "            <td>Bennet</td>\n",
       "            <td>Abraham</td>\n",
       "            <td>Algodata Infosystems</td>\n",
       "            <td>1</td>\n",
       "        </tr>\n",
       "        <tr>\n",
       "            <td>648-92-1872</td>\n",
       "            <td>Blotchet-Halls</td>\n",
       "            <td>Reginald</td>\n",
       "            <td>Binnet &amp; Hardley</td>\n",
       "            <td>1</td>\n",
       "        </tr>\n",
       "        <tr>\n",
       "            <td>238-95-7766</td>\n",
       "            <td>Carson</td>\n",
       "            <td>Cheryl</td>\n",
       "            <td>Algodata Infosystems</td>\n",
       "            <td>1</td>\n",
       "        </tr>\n",
       "        <tr>\n",
       "            <td>722-51-5454</td>\n",
       "            <td>DeFrance</td>\n",
       "            <td>Michel</td>\n",
       "            <td>Binnet &amp; Hardley</td>\n",
       "            <td>1</td>\n",
       "        </tr>\n",
       "        <tr>\n",
       "            <td>427-17-2319</td>\n",
       "            <td>Dull</td>\n",
       "            <td>Ann</td>\n",
       "            <td>Algodata Infosystems</td>\n",
       "            <td>1</td>\n",
       "        </tr>\n",
       "        <tr>\n",
       "            <td>213-46-8915</td>\n",
       "            <td>Green</td>\n",
       "            <td>Marjorie</td>\n",
       "            <td>Algodata Infosystems</td>\n",
       "            <td>2</td>\n",
       "        </tr>\n",
       "        <tr>\n",
       "            <td>472-27-2349</td>\n",
       "            <td>Gringlesby</td>\n",
       "            <td>Burt</td>\n",
       "            <td>Binnet &amp; Hardley</td>\n",
       "            <td>3</td>\n",
       "        </tr>\n",
       "        <tr>\n",
       "            <td>846-92-7186</td>\n",
       "            <td>Hunter</td>\n",
       "            <td>Sheryl</td>\n",
       "            <td>Algodata Infosystems</td>\n",
       "            <td>2</td>\n",
       "        </tr>\n",
       "        <tr>\n",
       "            <td>756-30-7391</td>\n",
       "            <td>Karsen</td>\n",
       "            <td>Livia</td>\n",
       "            <td>Binnet &amp; Hardley</td>\n",
       "            <td>1</td>\n",
       "        </tr>\n",
       "        <tr>\n",
       "            <td>486-29-1786</td>\n",
       "            <td>Locksley</td>\n",
       "            <td>Charlene</td>\n",
       "            <td>Algodata Infosystems</td>\n",
       "            <td>1</td>\n",
       "        </tr>\n",
       "        <tr>\n",
       "            <td>724-80-9391</td>\n",
       "            <td>MacFeather</td>\n",
       "            <td>Stearns</td>\n",
       "            <td>Algodata Infosystems</td>\n",
       "            <td>1</td>\n",
       "        </tr>\n",
       "        <tr>\n",
       "            <td>267-41-2394</td>\n",
       "            <td>O&#x27;Leary</td>\n",
       "            <td>Michael</td>\n",
       "            <td>Algodata Infosystems</td>\n",
       "            <td>2</td>\n",
       "        </tr>\n",
       "        <tr>\n",
       "            <td>807-91-6654</td>\n",
       "            <td>Panteley</td>\n",
       "            <td>Sylvia</td>\n",
       "            <td>Binnet &amp; Hardley</td>\n",
       "            <td>1</td>\n",
       "        </tr>\n",
       "        <tr>\n",
       "            <td>998-72-3567</td>\n",
       "            <td>Ringer</td>\n",
       "            <td>Albert</td>\n",
       "            <td>New Moon Books</td>\n",
       "            <td>1</td>\n",
       "        </tr>\n",
       "        <tr>\n",
       "            <td>899-46-2035</td>\n",
       "            <td>Ringer</td>\n",
       "            <td>Anne</td>\n",
       "            <td>Binnet &amp; Hardley</td>\n",
       "            <td>2</td>\n",
       "        </tr>\n",
       "        <tr>\n",
       "            <td>274-80-9391</td>\n",
       "            <td>Straight</td>\n",
       "            <td>Dean</td>\n",
       "            <td>Algodata Infosystems</td>\n",
       "            <td>1</td>\n",
       "        </tr>\n",
       "        <tr>\n",
       "            <td>172-32-1176</td>\n",
       "            <td>White</td>\n",
       "            <td>Johnson</td>\n",
       "            <td>New Moon Books</td>\n",
       "            <td>1</td>\n",
       "        </tr>\n",
       "        <tr>\n",
       "            <td>672-71-3249</td>\n",
       "            <td>Yokomoto</td>\n",
       "            <td>Akiko</td>\n",
       "            <td>Binnet &amp; Hardley</td>\n",
       "            <td>1</td>\n",
       "        </tr>\n",
       "        <tr>\n",
       "            <td>712-45-1867</td>\n",
       "            <td>del Castillo</td>\n",
       "            <td>Innes</td>\n",
       "            <td>Binnet &amp; Hardley</td>\n",
       "            <td>1</td>\n",
       "        </tr>\n",
       "    </tbody>\n",
       "</table>"
      ],
      "text/plain": [
       "[('409-56-7008', 'Bennet', 'Abraham', 'Algodata Infosystems', 1),\n",
       " ('648-92-1872', 'Blotchet-Halls', 'Reginald', 'Binnet & Hardley', 1),\n",
       " ('238-95-7766', 'Carson', 'Cheryl', 'Algodata Infosystems', 1),\n",
       " ('722-51-5454', 'DeFrance', 'Michel', 'Binnet & Hardley', 1),\n",
       " ('427-17-2319', 'Dull', 'Ann', 'Algodata Infosystems', 1),\n",
       " ('213-46-8915', 'Green', 'Marjorie', 'Algodata Infosystems', 2),\n",
       " ('472-27-2349', 'Gringlesby', 'Burt', 'Binnet & Hardley', 3),\n",
       " ('846-92-7186', 'Hunter', 'Sheryl', 'Algodata Infosystems', 2),\n",
       " ('756-30-7391', 'Karsen', 'Livia', 'Binnet & Hardley', 1),\n",
       " ('486-29-1786', 'Locksley', 'Charlene', 'Algodata Infosystems', 1),\n",
       " ('724-80-9391', 'MacFeather', 'Stearns', 'Algodata Infosystems', 1),\n",
       " ('267-41-2394', \"O'Leary\", 'Michael', 'Algodata Infosystems', 2),\n",
       " ('807-91-6654', 'Panteley', 'Sylvia', 'Binnet & Hardley', 1),\n",
       " ('998-72-3567', 'Ringer', 'Albert', 'New Moon Books', 1),\n",
       " ('899-46-2035', 'Ringer', 'Anne', 'Binnet & Hardley', 2),\n",
       " ('274-80-9391', 'Straight', 'Dean', 'Algodata Infosystems', 1),\n",
       " ('172-32-1176', 'White', 'Johnson', 'New Moon Books', 1),\n",
       " ('672-71-3249', 'Yokomoto', 'Akiko', 'Binnet & Hardley', 1),\n",
       " ('712-45-1867', 'del Castillo', 'Innes', 'Binnet & Hardley', 1)]"
      ]
     },
     "execution_count": 53,
     "metadata": {},
     "output_type": "execute_result"
    }
   ],
   "source": [
    "%%sql \n",
    "select a.au_id as \"AUTHOR ID\", au_lname as \"LAST NAME\", au_fname as \"FIRST NAME\",pub_name as \"PUBLISHER\",au_ord as \"TITLE COUNT\"\n",
    "from authors a\n",
    "inner join titleauthor ta on a.au_id = ta.au_id\n",
    "inner join titles t on ta.title_id = t.title_id\n",
    "inner join publishers p on t.pub_id = p.pub_id\n",
    "group by au_lname, au_fname\n"
   ]
  },
  {
   "cell_type": "code",
   "execution_count": 54,
   "metadata": {},
   "outputs": [],
   "source": [
    "# CHALLENGE 3"
   ]
  },
  {
   "cell_type": "code",
   "execution_count": 71,
   "metadata": {},
   "outputs": [
    {
     "name": "stdout",
     "output_type": "stream",
     "text": [
      " * sqlite:////Users//samue//Desktop//Bootcamp//lab-sql-select//publications.db\n",
      "Done.\n"
     ]
    },
    {
     "data": {
      "text/html": [
       "<table>\n",
       "    <thead>\n",
       "        <tr>\n",
       "            <th>AUTHOR ID</th>\n",
       "            <th>LAST NAME</th>\n",
       "            <th>FIRST NAME</th>\n",
       "            <th>TOTAL</th>\n",
       "        </tr>\n",
       "    </thead>\n",
       "    <tbody>\n",
       "        <tr>\n",
       "            <td>899-46-2035</td>\n",
       "            <td>Ringer</td>\n",
       "            <td>Anne</td>\n",
       "            <td>148</td>\n",
       "        </tr>\n",
       "        <tr>\n",
       "            <td>998-72-3567</td>\n",
       "            <td>Ringer</td>\n",
       "            <td>Albert</td>\n",
       "            <td>133</td>\n",
       "        </tr>\n",
       "        <tr>\n",
       "            <td>213-46-8915</td>\n",
       "            <td>Green</td>\n",
       "            <td>Marjorie</td>\n",
       "            <td>50</td>\n",
       "        </tr>\n",
       "    </tbody>\n",
       "</table>"
      ],
      "text/plain": [
       "[('899-46-2035', 'Ringer', 'Anne', 148),\n",
       " ('998-72-3567', 'Ringer', 'Albert', 133),\n",
       " ('213-46-8915', 'Green', 'Marjorie', 50)]"
      ]
     },
     "execution_count": 71,
     "metadata": {},
     "output_type": "execute_result"
    }
   ],
   "source": [
    "%%sql\n",
    "select a.au_id as \"AUTHOR ID\", au_lname as \"LAST NAME\", au_fname as \"FIRST NAME\", sum(qty) as TOTAL\n",
    "from authors a\n",
    "inner join titleauthor ta on a.au_id = ta.au_id\n",
    "inner join titles t on ta.title_id = t.title_id\n",
    "inner join sales s on t.title_id = s.title_id\n",
    "group by a.au_id\n",
    "order by TOTAL desc\n",
    "limit 3"
   ]
  },
  {
   "cell_type": "code",
   "execution_count": 69,
   "metadata": {},
   "outputs": [],
   "source": [
    "# CHALLENGE 4"
   ]
  },
  {
   "cell_type": "code",
   "execution_count": 77,
   "metadata": {},
   "outputs": [
    {
     "name": "stdout",
     "output_type": "stream",
     "text": [
      " * sqlite:////Users//samue//Desktop//Bootcamp//lab-sql-select//publications.db\n",
      "Done.\n"
     ]
    },
    {
     "data": {
      "text/html": [
       "<table>\n",
       "    <thead>\n",
       "        <tr>\n",
       "            <th>AUTHOR ID</th>\n",
       "            <th>LAST NAME</th>\n",
       "            <th>FIRST NAME</th>\n",
       "            <th>TOTAL</th>\n",
       "        </tr>\n",
       "    </thead>\n",
       "    <tbody>\n",
       "        <tr>\n",
       "            <td>899-46-2035</td>\n",
       "            <td>Ringer</td>\n",
       "            <td>Anne</td>\n",
       "            <td>148</td>\n",
       "        </tr>\n",
       "        <tr>\n",
       "            <td>998-72-3567</td>\n",
       "            <td>Ringer</td>\n",
       "            <td>Albert</td>\n",
       "            <td>133</td>\n",
       "        </tr>\n",
       "        <tr>\n",
       "            <td>213-46-8915</td>\n",
       "            <td>Green</td>\n",
       "            <td>Marjorie</td>\n",
       "            <td>50</td>\n",
       "        </tr>\n",
       "        <tr>\n",
       "            <td>427-17-2319</td>\n",
       "            <td>Dull</td>\n",
       "            <td>Ann</td>\n",
       "            <td>50</td>\n",
       "        </tr>\n",
       "        <tr>\n",
       "            <td>846-92-7186</td>\n",
       "            <td>Hunter</td>\n",
       "            <td>Sheryl</td>\n",
       "            <td>50</td>\n",
       "        </tr>\n",
       "        <tr>\n",
       "            <td>267-41-2394</td>\n",
       "            <td>O&#x27;Leary</td>\n",
       "            <td>Michael</td>\n",
       "            <td>45</td>\n",
       "        </tr>\n",
       "        <tr>\n",
       "            <td>724-80-9391</td>\n",
       "            <td>MacFeather</td>\n",
       "            <td>Stearns</td>\n",
       "            <td>45</td>\n",
       "        </tr>\n",
       "        <tr>\n",
       "            <td>722-51-5454</td>\n",
       "            <td>DeFrance</td>\n",
       "            <td>Michel</td>\n",
       "            <td>40</td>\n",
       "        </tr>\n",
       "        <tr>\n",
       "            <td>807-91-6654</td>\n",
       "            <td>Panteley</td>\n",
       "            <td>Sylvia</td>\n",
       "            <td>40</td>\n",
       "        </tr>\n",
       "        <tr>\n",
       "            <td>238-95-7766</td>\n",
       "            <td>Carson</td>\n",
       "            <td>Cheryl</td>\n",
       "            <td>30</td>\n",
       "        </tr>\n",
       "        <tr>\n",
       "            <td>486-29-1786</td>\n",
       "            <td>Locksley</td>\n",
       "            <td>Charlene</td>\n",
       "            <td>25</td>\n",
       "        </tr>\n",
       "        <tr>\n",
       "            <td>472-27-2349</td>\n",
       "            <td>Gringlesby</td>\n",
       "            <td>Burt</td>\n",
       "            <td>20</td>\n",
       "        </tr>\n",
       "        <tr>\n",
       "            <td>648-92-1872</td>\n",
       "            <td>Blotchet-Halls</td>\n",
       "            <td>Reginald</td>\n",
       "            <td>20</td>\n",
       "        </tr>\n",
       "        <tr>\n",
       "            <td>672-71-3249</td>\n",
       "            <td>Yokomoto</td>\n",
       "            <td>Akiko</td>\n",
       "            <td>20</td>\n",
       "        </tr>\n",
       "        <tr>\n",
       "            <td>756-30-7391</td>\n",
       "            <td>Karsen</td>\n",
       "            <td>Livia</td>\n",
       "            <td>20</td>\n",
       "        </tr>\n",
       "        <tr>\n",
       "            <td>172-32-1176</td>\n",
       "            <td>White</td>\n",
       "            <td>Johnson</td>\n",
       "            <td>15</td>\n",
       "        </tr>\n",
       "        <tr>\n",
       "            <td>274-80-9391</td>\n",
       "            <td>Straight</td>\n",
       "            <td>Dean</td>\n",
       "            <td>15</td>\n",
       "        </tr>\n",
       "        <tr>\n",
       "            <td>409-56-7008</td>\n",
       "            <td>Bennet</td>\n",
       "            <td>Abraham</td>\n",
       "            <td>15</td>\n",
       "        </tr>\n",
       "        <tr>\n",
       "            <td>712-45-1867</td>\n",
       "            <td>del Castillo</td>\n",
       "            <td>Innes</td>\n",
       "            <td>10</td>\n",
       "        </tr>\n",
       "        <tr>\n",
       "            <td>341-22-1782</td>\n",
       "            <td>Smith</td>\n",
       "            <td>Meander</td>\n",
       "            <td>0</td>\n",
       "        </tr>\n",
       "        <tr>\n",
       "            <td>527-72-3246</td>\n",
       "            <td>Greene</td>\n",
       "            <td>Morningstar</td>\n",
       "            <td>0</td>\n",
       "        </tr>\n",
       "        <tr>\n",
       "            <td>724-08-9931</td>\n",
       "            <td>Stringer</td>\n",
       "            <td>Dirk</td>\n",
       "            <td>0</td>\n",
       "        </tr>\n",
       "        <tr>\n",
       "            <td>893-72-1158</td>\n",
       "            <td>McBadden</td>\n",
       "            <td>Heather</td>\n",
       "            <td>0</td>\n",
       "        </tr>\n",
       "    </tbody>\n",
       "</table>"
      ],
      "text/plain": [
       "[('899-46-2035', 'Ringer', 'Anne', 148),\n",
       " ('998-72-3567', 'Ringer', 'Albert', 133),\n",
       " ('213-46-8915', 'Green', 'Marjorie', 50),\n",
       " ('427-17-2319', 'Dull', 'Ann', 50),\n",
       " ('846-92-7186', 'Hunter', 'Sheryl', 50),\n",
       " ('267-41-2394', \"O'Leary\", 'Michael', 45),\n",
       " ('724-80-9391', 'MacFeather', 'Stearns', 45),\n",
       " ('722-51-5454', 'DeFrance', 'Michel', 40),\n",
       " ('807-91-6654', 'Panteley', 'Sylvia', 40),\n",
       " ('238-95-7766', 'Carson', 'Cheryl', 30),\n",
       " ('486-29-1786', 'Locksley', 'Charlene', 25),\n",
       " ('472-27-2349', 'Gringlesby', 'Burt', 20),\n",
       " ('648-92-1872', 'Blotchet-Halls', 'Reginald', 20),\n",
       " ('672-71-3249', 'Yokomoto', 'Akiko', 20),\n",
       " ('756-30-7391', 'Karsen', 'Livia', 20),\n",
       " ('172-32-1176', 'White', 'Johnson', 15),\n",
       " ('274-80-9391', 'Straight', 'Dean', 15),\n",
       " ('409-56-7008', 'Bennet', 'Abraham', 15),\n",
       " ('712-45-1867', 'del Castillo', 'Innes', 10),\n",
       " ('341-22-1782', 'Smith', 'Meander', 0),\n",
       " ('527-72-3246', 'Greene', 'Morningstar', 0),\n",
       " ('724-08-9931', 'Stringer', 'Dirk', 0),\n",
       " ('893-72-1158', 'McBadden', 'Heather', 0)]"
      ]
     },
     "execution_count": 77,
     "metadata": {},
     "output_type": "execute_result"
    }
   ],
   "source": [
    "%%sql\n",
    "select a.au_id as \"AUTHOR ID\", au_lname as \"LAST NAME\", au_fname as \"FIRST NAME\", COALESCE(sum(s.qty), 0) as TOTAL\n",
    "from authors a\n",
    "left join titleauthor ta on ta.au_id = a.au_id\n",
    "left join titles t on t.title_id = ta.title_id\n",
    "left join sales s on s.title_id = t.title_id\n",
    "group by a.au_id\n",
    "order by TOTAL desc"
   ]
  },
  {
   "cell_type": "code",
   "execution_count": null,
   "metadata": {},
   "outputs": [],
   "source": []
  }
 ],
 "metadata": {
  "kernelspec": {
   "display_name": "Python 3",
   "language": "python",
   "name": "python3"
  },
  "language_info": {
   "codemirror_mode": {
    "name": "ipython",
    "version": 3
   },
   "file_extension": ".py",
   "mimetype": "text/x-python",
   "name": "python",
   "nbconvert_exporter": "python",
   "pygments_lexer": "ipython3",
   "version": "3.8.5"
  },
  "toc": {
   "base_numbering": 1,
   "nav_menu": {},
   "number_sections": true,
   "sideBar": true,
   "skip_h1_title": false,
   "title_cell": "Table of Contents",
   "title_sidebar": "Contents",
   "toc_cell": false,
   "toc_position": {},
   "toc_section_display": true,
   "toc_window_display": false
  },
  "varInspector": {
   "cols": {
    "lenName": 16,
    "lenType": 16,
    "lenVar": 40
   },
   "kernels_config": {
    "python": {
     "delete_cmd_postfix": "",
     "delete_cmd_prefix": "del ",
     "library": "var_list.py",
     "varRefreshCmd": "print(var_dic_list())"
    },
    "r": {
     "delete_cmd_postfix": ") ",
     "delete_cmd_prefix": "rm(",
     "library": "var_list.r",
     "varRefreshCmd": "cat(var_dic_list()) "
    }
   },
   "types_to_exclude": [
    "module",
    "function",
    "builtin_function_or_method",
    "instance",
    "_Feature"
   ],
   "window_display": false
  }
 },
 "nbformat": 4,
 "nbformat_minor": 4
}
