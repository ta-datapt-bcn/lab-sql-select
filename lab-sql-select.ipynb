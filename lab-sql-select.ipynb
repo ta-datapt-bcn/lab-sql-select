{
 "cells": [
  {
   "cell_type": "markdown",
   "metadata": {},
   "source": [
    "## CHALLENGE 1 Who Have Published What At Where?"
   ]
  },
  {
   "cell_type": "code",
   "execution_count": 1,
   "metadata": {},
   "outputs": [],
   "source": [
    "import os\n",
    "os.environ[\"GOOGLE_APPLICATION_CREDENTIALS\"]=\"/Users/JCasado/Desktop/IRONHACK/ironhack_service_account_big_query.json\""
   ]
  },
  {
   "cell_type": "code",
   "execution_count": null,
   "metadata": {},
   "outputs": [],
   "source": [
    "from google.cloud import bigquery"
   ]
  },
  {
   "cell_type": "code",
   "execution_count": null,
   "metadata": {},
   "outputs": [],
   "source": [
    "client = bigquery.Client()\n",
    "#nos deja hacer la conexion"
   ]
  },
  {
   "cell_type": "code",
   "execution_count": null,
   "metadata": {},
   "outputs": [],
   "source": [
    "# Figure out what titles each author has published at which publishers\n",
    "\n",
    "titles_sql = '''SELECT \n",
    "\n",
    "    pauthors.au_id AS AUTHOR_ID,\n",
    "    pauthors.au_lname AS LAST_NAME,\n",
    "    pauthors.au_fname AS FIRST_NAME,\n",
    "    ptitles.title AS TITLE, \n",
    "    publi.pub_name AS PUBLISHER\n",
    "    \n",
    "FROM \n",
    "    `ironhack-data-analytics-265219.publications.authors` AS pauthors\n",
    "\n",
    "JOIN\n",
    "    `publications.titleauthor` AS ptauthor\n",
    "ON\n",
    "    pauthors.au_id = ptauthor.au_id\n",
    "\n",
    "JOIN    \n",
    "    `publications.titles` AS ptitles\n",
    "ON\n",
    "    ptauthor.title_id = ptitles.title_id\n",
    "\n",
    "JOIN    \n",
    "    `publications.publishers` AS publi\n",
    "ON   \n",
    "    ptitles.pub_id = publi.pub_id\n",
    "'''"
   ]
  },
  {
   "cell_type": "code",
   "execution_count": null,
   "metadata": {},
   "outputs": [],
   "source": [
    "query_job = client.query(query=titles_sql)"
   ]
  },
  {
   "cell_type": "code",
   "execution_count": null,
   "metadata": {},
   "outputs": [],
   "source": [
    "query_job.to_dataframe()"
   ]
  },
  {
   "cell_type": "markdown",
   "metadata": {},
   "source": [
    "## CHALLENGE 2 Who Have Published How Many At Where?"
   ]
  },
  {
   "cell_type": "code",
   "execution_count": null,
   "metadata": {},
   "outputs": [],
   "source": [
    "titles2_sql = '''SELECT \n",
    "\n",
    "    pauthors.au_id AS AUTHOR_ID,\n",
    "    pauthors.au_lname AS LAST_NAME,\n",
    "    pauthors.au_fname AS FIRST_NAME,\n",
    "    publi.pub_name AS PUBLISHER,\n",
    "    COUNT(*) AS TITLE_COUNT\n",
    "    \n",
    "FROM \n",
    "    `ironhack-data-analytics-265219.publications.authors` AS pauthors\n",
    "\n",
    "JOIN\n",
    "    `publications.titleauthor` AS ptauthor\n",
    "ON\n",
    "    pauthors.au_id = ptauthor.au_id\n",
    "\n",
    "\n",
    "JOIN    \n",
    "    `publications.titles` AS ptitles\n",
    "ON\n",
    "    ptauthor.title_id = ptitles.title_id\n",
    "\n",
    "\n",
    "JOIN    \n",
    "    `publications.publishers` AS publi\n",
    "ON   \n",
    "    ptitles.pub_id = publi.pub_id\n",
    "    \n",
    "GROUP BY 1,2,3,4\n",
    "'''"
   ]
  },
  {
   "cell_type": "code",
   "execution_count": null,
   "metadata": {},
   "outputs": [],
   "source": [
    "query_job = client.query(query=titles2_sql)"
   ]
  },
  {
   "cell_type": "code",
   "execution_count": null,
   "metadata": {},
   "outputs": [],
   "source": [
    "query_job.to_dataframe()"
   ]
  },
  {
   "cell_type": "markdown",
   "metadata": {},
   "source": [
    "## Challenge 3 - Best Selling Authors"
   ]
  },
  {
   "cell_type": "code",
   "execution_count": null,
   "metadata": {},
   "outputs": [],
   "source": [
    "best_sql = '''SELECT\n",
    "\n",
    "    pauthors.au_id AS AUTHOR_ID,\n",
    "    pauthors.au_lname AS LAST_NAME,\n",
    "    pauthors.au_fname AS FIRST_NAME,\n",
    "    SUM(qty) AS TOTAL\n",
    "    \n",
    "FROM \n",
    "    `ironhack-data-analytics-265219.publications.authors` AS pauthors\n",
    "\n",
    "JOIN\n",
    "    `publications.titleauthor` AS ptauthor\n",
    "ON\n",
    "    pauthors.au_id = ptauthor.au_id\n",
    "\n",
    "JOIN    \n",
    "    `publications.titles` AS ptitles\n",
    "ON\n",
    "    ptauthor.title_id = ptitles.title_id\n",
    "\n",
    "JOIN \n",
    "    `publications.sales` AS sales\n",
    "ON\n",
    "    ptauthor.title_id = sales.title_id\n",
    "    \n",
    "GROUP BY 1,2,3\n",
    "    \n",
    "ORDER BY\n",
    "    TOTAL DESC\n",
    "    \n",
    "LIMIT 3    \n",
    "\n",
    "'''"
   ]
  },
  {
   "cell_type": "code",
   "execution_count": null,
   "metadata": {},
   "outputs": [],
   "source": [
    "query_job = client.query(query=best_sql)"
   ]
  },
  {
   "cell_type": "code",
   "execution_count": null,
   "metadata": {},
   "outputs": [],
   "source": [
    "query_job.to_dataframe()"
   ]
  },
  {
   "cell_type": "markdown",
   "metadata": {},
   "source": [
    "## Challenge 4 - Best Selling Authors Ranking"
   ]
  },
  {
   "cell_type": "code",
   "execution_count": null,
   "metadata": {},
   "outputs": [],
   "source": [
    "rank_sql = '''SELECT \n",
    "\n",
    "    pauthors.au_id AS AUTHOR_ID,\n",
    "    pauthors.au_lname AS LAST_NAME,\n",
    "    pauthors.au_fname AS FIRST_NAME,\n",
    "    IFNULL(SUM(qty),0) AS TOTAL\n",
    "    \n",
    "FROM \n",
    "    `ironhack-data-analytics-265219.publications.authors` AS pauthors\n",
    "\n",
    "LEFT JOIN\n",
    "    `publications.titleauthor` AS ptauthor\n",
    "\n",
    "ON\n",
    "    pauthors.au_id = ptauthor.au_id\n",
    "\n",
    "LEFT JOIN    \n",
    "    `publications.titles` AS ptitles\n",
    "ON\n",
    "    ptauthor.title_id = ptitles.title_id\n",
    "\n",
    "LEFT JOIN \n",
    "    `publications.sales` AS sales\n",
    "ON\n",
    "    ptauthor.title_id = sales.title_id\n",
    "\n",
    "    \n",
    "GROUP BY 1,2,3\n",
    "    \n",
    "ORDER BY\n",
    "    TOTAL DESC\n",
    "'''"
   ]
  },
  {
   "cell_type": "code",
   "execution_count": null,
   "metadata": {},
   "outputs": [],
   "source": [
    "query_job = client.query(query=rank_sql)"
   ]
  },
  {
   "cell_type": "code",
   "execution_count": null,
   "metadata": {},
   "outputs": [],
   "source": [
    "query_job.to_dataframe()"
   ]
  },
  {
   "cell_type": "markdown",
   "metadata": {},
   "source": [
    "## Bonus Challenge - Most Profiting Authors¶"
   ]
  },
  {
   "cell_type": "code",
   "execution_count": null,
   "metadata": {},
   "outputs": [],
   "source": [
    "# no time!! lo haré este domingo porque he tenido que rehacer este lab ya que los query los tenia en un libro \n",
    "#sin ejecutar y no se me guardaron los challenge 3,4 y me he quedado sin tiempo"
   ]
  }
 ],
 "metadata": {
  "kernelspec": {
   "display_name": "Python 3",
   "language": "python",
   "name": "python3"
  },
  "language_info": {
   "codemirror_mode": {
    "name": "ipython",
    "version": 3
   },
   "file_extension": ".py",
   "mimetype": "text/x-python",
   "name": "python",
   "nbconvert_exporter": "python",
   "pygments_lexer": "ipython3",
   "version": "3.7.4"
  }
 },
 "nbformat": 4,
 "nbformat_minor": 2
}
