{
 "metadata": {
  "language_info": {
   "codemirror_mode": {
    "name": "ipython",
    "version": 3
   },
   "file_extension": ".py",
   "mimetype": "text/x-python",
   "name": "python",
   "nbconvert_exporter": "python",
   "pygments_lexer": "ipython3",
   "version": "3.8.3-final"
  },
  "orig_nbformat": 2,
  "kernelspec": {
   "name": "python383jvsc74a57bd05f23c331dcc0e959a18d97d72b32723b8e8fefc4a029dc171226f15b89161c30",
   "display_name": "Python 3.8.3 32-bit (conda)"
  }
 },
 "nbformat": 4,
 "nbformat_minor": 2,
 "cells": [
  {
   "source": [
    "# LAB 20_SQL SELECT"
   ],
   "cell_type": "markdown",
   "metadata": {}
  },
  {
   "source": [
    "## Challenge 1 - Who Have Published What At Where?"
   ],
   "cell_type": "markdown",
   "metadata": {}
  },
  {
   "source": [
    "In this challenge you will write a SELECT query that joins various tables to figure out what titles each author has published at which publishers. Your output should have at least the following columns:\n",
    "\n",
    "- AUTHOR_ID - the ID of the author\n",
    "- LAST_NAME - author last name\n",
    "- FIRST_NAME - author first name\n",
    "- TITLE - name of the published title\n",
    "- PUBLISHER - name of the publisher where the title was published\n",
    "\n",
    "If your query is correct, the total rows in your output should be the same as the total number of records in Table titleauthor."
   ],
   "cell_type": "markdown",
   "metadata": {}
  },
  {
   "cell_type": "code",
   "execution_count": 1,
   "metadata": {},
   "outputs": [],
   "source": [
    "# Import pandas and load iptyhon\n",
    "\n",
    "import pandas as pd\n",
    "%load_ext sql"
   ]
  },
  {
   "cell_type": "code",
   "execution_count": 2,
   "metadata": {},
   "outputs": [],
   "source": [
    "# Define the queries and the connection with the Database\n",
    "\n",
    "query = '''\n",
    "SELECT a.au_id as AUTHOR_ID, a.au_lname as LAST_NAME, a.au_fname as FIRST_NAME, t.title as TITLE, p.pub_name as PUBLISHER\n",
    "FROM authors a INNER JOIN titleauthor ta on a.au_id = ta.au_id INNER JOIN titles t on ta.title_id = t.title_id\n",
    "INNER JOIN publishers p on t.pub_id = p.pub_id\n",
    "'''\n",
    "queryb = '''\n",
    "SELECT *\n",
    "FROM titleauthor\n",
    "'''\n",
    "db_url = 'sqlite:///publications.db'"
   ]
  },
  {
   "cell_type": "code",
   "execution_count": 3,
   "metadata": {},
   "outputs": [
    {
     "output_type": "execute_result",
     "data": {
      "text/plain": [
       "      AUTHOR_ID       LAST_NAME FIRST_NAME  \\\n",
       "0   172-32-1176           White    Johnson   \n",
       "1   213-46-8915           Green   Marjorie   \n",
       "2   213-46-8915           Green   Marjorie   \n",
       "3   238-95-7766          Carson     Cheryl   \n",
       "4   267-41-2394         O'Leary    Michael   \n",
       "5   267-41-2394         O'Leary    Michael   \n",
       "6   274-80-9391        Straight       Dean   \n",
       "7   409-56-7008          Bennet    Abraham   \n",
       "8   427-17-2319            Dull        Ann   \n",
       "9   472-27-2349      Gringlesby       Burt   \n",
       "10  486-29-1786        Locksley   Charlene   \n",
       "11  486-29-1786        Locksley   Charlene   \n",
       "12  648-92-1872  Blotchet-Halls   Reginald   \n",
       "13  672-71-3249        Yokomoto      Akiko   \n",
       "14  712-45-1867    del Castillo      Innes   \n",
       "15  722-51-5454        DeFrance     Michel   \n",
       "16  724-80-9391      MacFeather    Stearns   \n",
       "17  724-80-9391      MacFeather    Stearns   \n",
       "18  756-30-7391          Karsen      Livia   \n",
       "19  807-91-6654        Panteley     Sylvia   \n",
       "20  846-92-7186          Hunter     Sheryl   \n",
       "21  899-46-2035          Ringer       Anne   \n",
       "22  899-46-2035          Ringer       Anne   \n",
       "23  998-72-3567          Ringer     Albert   \n",
       "24  998-72-3567          Ringer     Albert   \n",
       "\n",
       "                                                TITLE             PUBLISHER  \n",
       "0       Prolonged Data Deprivation: Four Case Studies        New Moon Books  \n",
       "1                 The Busy Executive's Database Guide  Algodata Infosystems  \n",
       "2                     You Can Combat Computer Stress!        New Moon Books  \n",
       "3                            But Is It User Friendly?  Algodata Infosystems  \n",
       "4   Cooking with Computers: Surreptitious Balance ...  Algodata Infosystems  \n",
       "5                                      Sushi, Anyone?      Binnet & Hardley  \n",
       "6                       Straight Talk About Computers  Algodata Infosystems  \n",
       "7                 The Busy Executive's Database Guide  Algodata Infosystems  \n",
       "8                           Secrets of Silicon Valley  Algodata Infosystems  \n",
       "9                                      Sushi, Anyone?      Binnet & Hardley  \n",
       "10                                      Net Etiquette  Algodata Infosystems  \n",
       "11                Emotional Security: A New Algorithm        New Moon Books  \n",
       "12          Fifty Years in Buckingham Palace Kitchens      Binnet & Hardley  \n",
       "13                                     Sushi, Anyone?      Binnet & Hardley  \n",
       "14                  Silicon Valley Gastronomic Treats      Binnet & Hardley  \n",
       "15                              The Gourmet Microwave      Binnet & Hardley  \n",
       "16  Cooking with Computers: Surreptitious Balance ...  Algodata Infosystems  \n",
       "17  Computer Phobic AND Non-Phobic Individuals: Be...      Binnet & Hardley  \n",
       "18  Computer Phobic AND Non-Phobic Individuals: Be...      Binnet & Hardley  \n",
       "19  Onions, Leeks, and Garlic: Cooking Secrets of ...      Binnet & Hardley  \n",
       "20                          Secrets of Silicon Valley  Algodata Infosystems  \n",
       "21                              The Gourmet Microwave      Binnet & Hardley  \n",
       "22                                Is Anger the Enemy?        New Moon Books  \n",
       "23                                Is Anger the Enemy?        New Moon Books  \n",
       "24                                  Life Without Fear        New Moon Books  "
      ],
      "text/html": "<div>\n<style scoped>\n    .dataframe tbody tr th:only-of-type {\n        vertical-align: middle;\n    }\n\n    .dataframe tbody tr th {\n        vertical-align: top;\n    }\n\n    .dataframe thead th {\n        text-align: right;\n    }\n</style>\n<table border=\"1\" class=\"dataframe\">\n  <thead>\n    <tr style=\"text-align: right;\">\n      <th></th>\n      <th>AUTHOR_ID</th>\n      <th>LAST_NAME</th>\n      <th>FIRST_NAME</th>\n      <th>TITLE</th>\n      <th>PUBLISHER</th>\n    </tr>\n  </thead>\n  <tbody>\n    <tr>\n      <th>0</th>\n      <td>172-32-1176</td>\n      <td>White</td>\n      <td>Johnson</td>\n      <td>Prolonged Data Deprivation: Four Case Studies</td>\n      <td>New Moon Books</td>\n    </tr>\n    <tr>\n      <th>1</th>\n      <td>213-46-8915</td>\n      <td>Green</td>\n      <td>Marjorie</td>\n      <td>The Busy Executive's Database Guide</td>\n      <td>Algodata Infosystems</td>\n    </tr>\n    <tr>\n      <th>2</th>\n      <td>213-46-8915</td>\n      <td>Green</td>\n      <td>Marjorie</td>\n      <td>You Can Combat Computer Stress!</td>\n      <td>New Moon Books</td>\n    </tr>\n    <tr>\n      <th>3</th>\n      <td>238-95-7766</td>\n      <td>Carson</td>\n      <td>Cheryl</td>\n      <td>But Is It User Friendly?</td>\n      <td>Algodata Infosystems</td>\n    </tr>\n    <tr>\n      <th>4</th>\n      <td>267-41-2394</td>\n      <td>O'Leary</td>\n      <td>Michael</td>\n      <td>Cooking with Computers: Surreptitious Balance ...</td>\n      <td>Algodata Infosystems</td>\n    </tr>\n    <tr>\n      <th>5</th>\n      <td>267-41-2394</td>\n      <td>O'Leary</td>\n      <td>Michael</td>\n      <td>Sushi, Anyone?</td>\n      <td>Binnet &amp; Hardley</td>\n    </tr>\n    <tr>\n      <th>6</th>\n      <td>274-80-9391</td>\n      <td>Straight</td>\n      <td>Dean</td>\n      <td>Straight Talk About Computers</td>\n      <td>Algodata Infosystems</td>\n    </tr>\n    <tr>\n      <th>7</th>\n      <td>409-56-7008</td>\n      <td>Bennet</td>\n      <td>Abraham</td>\n      <td>The Busy Executive's Database Guide</td>\n      <td>Algodata Infosystems</td>\n    </tr>\n    <tr>\n      <th>8</th>\n      <td>427-17-2319</td>\n      <td>Dull</td>\n      <td>Ann</td>\n      <td>Secrets of Silicon Valley</td>\n      <td>Algodata Infosystems</td>\n    </tr>\n    <tr>\n      <th>9</th>\n      <td>472-27-2349</td>\n      <td>Gringlesby</td>\n      <td>Burt</td>\n      <td>Sushi, Anyone?</td>\n      <td>Binnet &amp; Hardley</td>\n    </tr>\n    <tr>\n      <th>10</th>\n      <td>486-29-1786</td>\n      <td>Locksley</td>\n      <td>Charlene</td>\n      <td>Net Etiquette</td>\n      <td>Algodata Infosystems</td>\n    </tr>\n    <tr>\n      <th>11</th>\n      <td>486-29-1786</td>\n      <td>Locksley</td>\n      <td>Charlene</td>\n      <td>Emotional Security: A New Algorithm</td>\n      <td>New Moon Books</td>\n    </tr>\n    <tr>\n      <th>12</th>\n      <td>648-92-1872</td>\n      <td>Blotchet-Halls</td>\n      <td>Reginald</td>\n      <td>Fifty Years in Buckingham Palace Kitchens</td>\n      <td>Binnet &amp; Hardley</td>\n    </tr>\n    <tr>\n      <th>13</th>\n      <td>672-71-3249</td>\n      <td>Yokomoto</td>\n      <td>Akiko</td>\n      <td>Sushi, Anyone?</td>\n      <td>Binnet &amp; Hardley</td>\n    </tr>\n    <tr>\n      <th>14</th>\n      <td>712-45-1867</td>\n      <td>del Castillo</td>\n      <td>Innes</td>\n      <td>Silicon Valley Gastronomic Treats</td>\n      <td>Binnet &amp; Hardley</td>\n    </tr>\n    <tr>\n      <th>15</th>\n      <td>722-51-5454</td>\n      <td>DeFrance</td>\n      <td>Michel</td>\n      <td>The Gourmet Microwave</td>\n      <td>Binnet &amp; Hardley</td>\n    </tr>\n    <tr>\n      <th>16</th>\n      <td>724-80-9391</td>\n      <td>MacFeather</td>\n      <td>Stearns</td>\n      <td>Cooking with Computers: Surreptitious Balance ...</td>\n      <td>Algodata Infosystems</td>\n    </tr>\n    <tr>\n      <th>17</th>\n      <td>724-80-9391</td>\n      <td>MacFeather</td>\n      <td>Stearns</td>\n      <td>Computer Phobic AND Non-Phobic Individuals: Be...</td>\n      <td>Binnet &amp; Hardley</td>\n    </tr>\n    <tr>\n      <th>18</th>\n      <td>756-30-7391</td>\n      <td>Karsen</td>\n      <td>Livia</td>\n      <td>Computer Phobic AND Non-Phobic Individuals: Be...</td>\n      <td>Binnet &amp; Hardley</td>\n    </tr>\n    <tr>\n      <th>19</th>\n      <td>807-91-6654</td>\n      <td>Panteley</td>\n      <td>Sylvia</td>\n      <td>Onions, Leeks, and Garlic: Cooking Secrets of ...</td>\n      <td>Binnet &amp; Hardley</td>\n    </tr>\n    <tr>\n      <th>20</th>\n      <td>846-92-7186</td>\n      <td>Hunter</td>\n      <td>Sheryl</td>\n      <td>Secrets of Silicon Valley</td>\n      <td>Algodata Infosystems</td>\n    </tr>\n    <tr>\n      <th>21</th>\n      <td>899-46-2035</td>\n      <td>Ringer</td>\n      <td>Anne</td>\n      <td>The Gourmet Microwave</td>\n      <td>Binnet &amp; Hardley</td>\n    </tr>\n    <tr>\n      <th>22</th>\n      <td>899-46-2035</td>\n      <td>Ringer</td>\n      <td>Anne</td>\n      <td>Is Anger the Enemy?</td>\n      <td>New Moon Books</td>\n    </tr>\n    <tr>\n      <th>23</th>\n      <td>998-72-3567</td>\n      <td>Ringer</td>\n      <td>Albert</td>\n      <td>Is Anger the Enemy?</td>\n      <td>New Moon Books</td>\n    </tr>\n    <tr>\n      <th>24</th>\n      <td>998-72-3567</td>\n      <td>Ringer</td>\n      <td>Albert</td>\n      <td>Life Without Fear</td>\n      <td>New Moon Books</td>\n    </tr>\n  </tbody>\n</table>\n</div>"
     },
     "metadata": {},
     "execution_count": 3
    }
   ],
   "source": [
    "# Call the query from the data base with pandas\n",
    "\n",
    "df = pd.read_sql(query, db_url)\n",
    "df"
   ]
  },
  {
   "cell_type": "code",
   "execution_count": 4,
   "metadata": {},
   "outputs": [
    {
     "output_type": "execute_result",
     "data": {
      "text/plain": [
       "True"
      ]
     },
     "metadata": {},
     "execution_count": 4
    }
   ],
   "source": [
    "# Check if the total rows in the output is the same as the total number of records in Table titleauthor\n",
    "\n",
    "len(pd.read_sql(query, db_url)) == len(pd.read_sql(queryb, db_url))"
   ]
  },
  {
   "source": [
    "## Challenge 2 - Who Have Published How Many At Where?"
   ],
   "cell_type": "markdown",
   "metadata": {}
  },
  {
   "source": [
    "Elevating from your solution in Challenge 1, query how many titles each author has published at each publisher.\n",
    "\n",
    "To check if your output is correct, sum up the TITLE COUNT column. The sum number should be the same as the total number of records in Table titleauthor."
   ],
   "cell_type": "markdown",
   "metadata": {}
  },
  {
   "cell_type": "code",
   "execution_count": 5,
   "metadata": {},
   "outputs": [],
   "source": [
    "# Define the queries and the connection with the Database\n",
    "\n",
    "query2 = '''\n",
    "SELECT a.au_id as AUTHOR_ID, a.au_lname as LAST_NAME, a.au_fname as FIRST_NAME, p.pub_name as PUBLISHER, count(t.title) as TITLE\n",
    "FROM authors a INNER JOIN titleauthor ta on a.au_id = ta.au_id INNER JOIN titles t on ta.title_id = t.title_id\n",
    "INNER JOIN publishers p on t.pub_id = p.pub_id\n",
    "GROUP BY a.au_lname,a.au_fname,p.pub_name\n",
    "'''\n",
    "query2b = '''\n",
    "SELECT *\n",
    "FROM titleauthor\n",
    "'''"
   ]
  },
  {
   "cell_type": "code",
   "execution_count": 6,
   "metadata": {},
   "outputs": [
    {
     "output_type": "execute_result",
     "data": {
      "text/plain": [
       "      AUTHOR_ID       LAST_NAME FIRST_NAME             PUBLISHER  TITLE\n",
       "0   409-56-7008          Bennet    Abraham  Algodata Infosystems      1\n",
       "1   648-92-1872  Blotchet-Halls   Reginald      Binnet & Hardley      1\n",
       "2   238-95-7766          Carson     Cheryl  Algodata Infosystems      1\n",
       "3   722-51-5454        DeFrance     Michel      Binnet & Hardley      1\n",
       "4   427-17-2319            Dull        Ann  Algodata Infosystems      1\n",
       "5   213-46-8915           Green   Marjorie  Algodata Infosystems      1\n",
       "6   213-46-8915           Green   Marjorie        New Moon Books      1\n",
       "7   472-27-2349      Gringlesby       Burt      Binnet & Hardley      1\n",
       "8   846-92-7186          Hunter     Sheryl  Algodata Infosystems      1\n",
       "9   756-30-7391          Karsen      Livia      Binnet & Hardley      1\n",
       "10  486-29-1786        Locksley   Charlene  Algodata Infosystems      1\n",
       "11  486-29-1786        Locksley   Charlene        New Moon Books      1\n",
       "12  724-80-9391      MacFeather    Stearns  Algodata Infosystems      1\n",
       "13  724-80-9391      MacFeather    Stearns      Binnet & Hardley      1\n",
       "14  267-41-2394         O'Leary    Michael  Algodata Infosystems      1\n",
       "15  267-41-2394         O'Leary    Michael      Binnet & Hardley      1\n",
       "16  807-91-6654        Panteley     Sylvia      Binnet & Hardley      1\n",
       "17  998-72-3567          Ringer     Albert        New Moon Books      2\n",
       "18  899-46-2035          Ringer       Anne      Binnet & Hardley      1\n",
       "19  899-46-2035          Ringer       Anne        New Moon Books      1\n",
       "20  274-80-9391        Straight       Dean  Algodata Infosystems      1\n",
       "21  172-32-1176           White    Johnson        New Moon Books      1\n",
       "22  672-71-3249        Yokomoto      Akiko      Binnet & Hardley      1\n",
       "23  712-45-1867    del Castillo      Innes      Binnet & Hardley      1"
      ],
      "text/html": "<div>\n<style scoped>\n    .dataframe tbody tr th:only-of-type {\n        vertical-align: middle;\n    }\n\n    .dataframe tbody tr th {\n        vertical-align: top;\n    }\n\n    .dataframe thead th {\n        text-align: right;\n    }\n</style>\n<table border=\"1\" class=\"dataframe\">\n  <thead>\n    <tr style=\"text-align: right;\">\n      <th></th>\n      <th>AUTHOR_ID</th>\n      <th>LAST_NAME</th>\n      <th>FIRST_NAME</th>\n      <th>PUBLISHER</th>\n      <th>TITLE</th>\n    </tr>\n  </thead>\n  <tbody>\n    <tr>\n      <th>0</th>\n      <td>409-56-7008</td>\n      <td>Bennet</td>\n      <td>Abraham</td>\n      <td>Algodata Infosystems</td>\n      <td>1</td>\n    </tr>\n    <tr>\n      <th>1</th>\n      <td>648-92-1872</td>\n      <td>Blotchet-Halls</td>\n      <td>Reginald</td>\n      <td>Binnet &amp; Hardley</td>\n      <td>1</td>\n    </tr>\n    <tr>\n      <th>2</th>\n      <td>238-95-7766</td>\n      <td>Carson</td>\n      <td>Cheryl</td>\n      <td>Algodata Infosystems</td>\n      <td>1</td>\n    </tr>\n    <tr>\n      <th>3</th>\n      <td>722-51-5454</td>\n      <td>DeFrance</td>\n      <td>Michel</td>\n      <td>Binnet &amp; Hardley</td>\n      <td>1</td>\n    </tr>\n    <tr>\n      <th>4</th>\n      <td>427-17-2319</td>\n      <td>Dull</td>\n      <td>Ann</td>\n      <td>Algodata Infosystems</td>\n      <td>1</td>\n    </tr>\n    <tr>\n      <th>5</th>\n      <td>213-46-8915</td>\n      <td>Green</td>\n      <td>Marjorie</td>\n      <td>Algodata Infosystems</td>\n      <td>1</td>\n    </tr>\n    <tr>\n      <th>6</th>\n      <td>213-46-8915</td>\n      <td>Green</td>\n      <td>Marjorie</td>\n      <td>New Moon Books</td>\n      <td>1</td>\n    </tr>\n    <tr>\n      <th>7</th>\n      <td>472-27-2349</td>\n      <td>Gringlesby</td>\n      <td>Burt</td>\n      <td>Binnet &amp; Hardley</td>\n      <td>1</td>\n    </tr>\n    <tr>\n      <th>8</th>\n      <td>846-92-7186</td>\n      <td>Hunter</td>\n      <td>Sheryl</td>\n      <td>Algodata Infosystems</td>\n      <td>1</td>\n    </tr>\n    <tr>\n      <th>9</th>\n      <td>756-30-7391</td>\n      <td>Karsen</td>\n      <td>Livia</td>\n      <td>Binnet &amp; Hardley</td>\n      <td>1</td>\n    </tr>\n    <tr>\n      <th>10</th>\n      <td>486-29-1786</td>\n      <td>Locksley</td>\n      <td>Charlene</td>\n      <td>Algodata Infosystems</td>\n      <td>1</td>\n    </tr>\n    <tr>\n      <th>11</th>\n      <td>486-29-1786</td>\n      <td>Locksley</td>\n      <td>Charlene</td>\n      <td>New Moon Books</td>\n      <td>1</td>\n    </tr>\n    <tr>\n      <th>12</th>\n      <td>724-80-9391</td>\n      <td>MacFeather</td>\n      <td>Stearns</td>\n      <td>Algodata Infosystems</td>\n      <td>1</td>\n    </tr>\n    <tr>\n      <th>13</th>\n      <td>724-80-9391</td>\n      <td>MacFeather</td>\n      <td>Stearns</td>\n      <td>Binnet &amp; Hardley</td>\n      <td>1</td>\n    </tr>\n    <tr>\n      <th>14</th>\n      <td>267-41-2394</td>\n      <td>O'Leary</td>\n      <td>Michael</td>\n      <td>Algodata Infosystems</td>\n      <td>1</td>\n    </tr>\n    <tr>\n      <th>15</th>\n      <td>267-41-2394</td>\n      <td>O'Leary</td>\n      <td>Michael</td>\n      <td>Binnet &amp; Hardley</td>\n      <td>1</td>\n    </tr>\n    <tr>\n      <th>16</th>\n      <td>807-91-6654</td>\n      <td>Panteley</td>\n      <td>Sylvia</td>\n      <td>Binnet &amp; Hardley</td>\n      <td>1</td>\n    </tr>\n    <tr>\n      <th>17</th>\n      <td>998-72-3567</td>\n      <td>Ringer</td>\n      <td>Albert</td>\n      <td>New Moon Books</td>\n      <td>2</td>\n    </tr>\n    <tr>\n      <th>18</th>\n      <td>899-46-2035</td>\n      <td>Ringer</td>\n      <td>Anne</td>\n      <td>Binnet &amp; Hardley</td>\n      <td>1</td>\n    </tr>\n    <tr>\n      <th>19</th>\n      <td>899-46-2035</td>\n      <td>Ringer</td>\n      <td>Anne</td>\n      <td>New Moon Books</td>\n      <td>1</td>\n    </tr>\n    <tr>\n      <th>20</th>\n      <td>274-80-9391</td>\n      <td>Straight</td>\n      <td>Dean</td>\n      <td>Algodata Infosystems</td>\n      <td>1</td>\n    </tr>\n    <tr>\n      <th>21</th>\n      <td>172-32-1176</td>\n      <td>White</td>\n      <td>Johnson</td>\n      <td>New Moon Books</td>\n      <td>1</td>\n    </tr>\n    <tr>\n      <th>22</th>\n      <td>672-71-3249</td>\n      <td>Yokomoto</td>\n      <td>Akiko</td>\n      <td>Binnet &amp; Hardley</td>\n      <td>1</td>\n    </tr>\n    <tr>\n      <th>23</th>\n      <td>712-45-1867</td>\n      <td>del Castillo</td>\n      <td>Innes</td>\n      <td>Binnet &amp; Hardley</td>\n      <td>1</td>\n    </tr>\n  </tbody>\n</table>\n</div>"
     },
     "metadata": {},
     "execution_count": 6
    }
   ],
   "source": [
    "# Call the query from the data base with pandas\n",
    "\n",
    "df2 = pd.read_sql(query2, db_url)\n",
    "df2"
   ]
  },
  {
   "cell_type": "code",
   "execution_count": 7,
   "metadata": {},
   "outputs": [
    {
     "output_type": "execute_result",
     "data": {
      "text/plain": [
       "True"
      ]
     },
     "metadata": {},
     "execution_count": 7
    }
   ],
   "source": [
    "# Check if the total rows in the output is the same as the total number of records in Table titleauthor\n",
    "\n",
    "pd.read_sql(query2, db_url)['TITLE'].sum() == len(pd.read_sql(query2b, db_url))"
   ]
  },
  {
   "source": [
    "## Challenge 3 - Best Selling Authors"
   ],
   "cell_type": "markdown",
   "metadata": {}
  },
  {
   "source": [
    "Who are the top 3 authors who have sold the highest number of titles? Write a query to find out.\n",
    "\n",
    "Requirements:\n",
    "\n",
    "Your output should have the following columns:\n",
    "- AUTHOR_ID - the ID of the author\n",
    "- LAST_NAME - author last name\n",
    "- FIRST_NAME - author first name\n",
    "- TOTAL - total number of titles sold from this author\n",
    "\n",
    "Your output should be ordered based on TOTAL from high to low.\n",
    "\n",
    "Only output the top 3 best selling authors."
   ],
   "cell_type": "markdown",
   "metadata": {}
  },
  {
   "cell_type": "code",
   "execution_count": 8,
   "metadata": {},
   "outputs": [],
   "source": [
    "# Define the queries and the connection with the Database\n",
    "\n",
    "query3 = '''\n",
    "SELECT a.au_id as AUTHOR_ID, a.au_lname as LAST_NAME, a.au_fname as FIRST_NAME, sum(s.qty) as TOTAL\n",
    "FROM sales s INNER JOIN titles t on t.title_id = s.title_id INNER JOIN titleauthor ta on t.title_id = ta.title_id\n",
    "INNER JOIN authors a on a.au_id = ta.au_id\n",
    "GROUP BY a.au_id, a.au_lname, a.au_fname\n",
    "ORDER BY TOTAL desc\n",
    "LIMIT 3\n",
    "'''"
   ]
  },
  {
   "cell_type": "code",
   "execution_count": 9,
   "metadata": {},
   "outputs": [
    {
     "output_type": "execute_result",
     "data": {
      "text/plain": [
       "     AUTHOR_ID LAST_NAME FIRST_NAME  TOTAL\n",
       "0  899-46-2035    Ringer       Anne    148\n",
       "1  998-72-3567    Ringer     Albert    133\n",
       "2  213-46-8915     Green   Marjorie     50"
      ],
      "text/html": "<div>\n<style scoped>\n    .dataframe tbody tr th:only-of-type {\n        vertical-align: middle;\n    }\n\n    .dataframe tbody tr th {\n        vertical-align: top;\n    }\n\n    .dataframe thead th {\n        text-align: right;\n    }\n</style>\n<table border=\"1\" class=\"dataframe\">\n  <thead>\n    <tr style=\"text-align: right;\">\n      <th></th>\n      <th>AUTHOR_ID</th>\n      <th>LAST_NAME</th>\n      <th>FIRST_NAME</th>\n      <th>TOTAL</th>\n    </tr>\n  </thead>\n  <tbody>\n    <tr>\n      <th>0</th>\n      <td>899-46-2035</td>\n      <td>Ringer</td>\n      <td>Anne</td>\n      <td>148</td>\n    </tr>\n    <tr>\n      <th>1</th>\n      <td>998-72-3567</td>\n      <td>Ringer</td>\n      <td>Albert</td>\n      <td>133</td>\n    </tr>\n    <tr>\n      <th>2</th>\n      <td>213-46-8915</td>\n      <td>Green</td>\n      <td>Marjorie</td>\n      <td>50</td>\n    </tr>\n  </tbody>\n</table>\n</div>"
     },
     "metadata": {},
     "execution_count": 9
    }
   ],
   "source": [
    "# Call the query from the data base with pandas\n",
    "\n",
    "df3 = pd.read_sql(query3, db_url)\n",
    "df3"
   ]
  },
  {
   "source": [
    "## Challenge 4 - Best Selling Authors Ranking"
   ],
   "cell_type": "markdown",
   "metadata": {}
  },
  {
   "source": [
    "Now modify your solution in Challenge 3 so that the output will display all 23 authors instead of the top 3. Note that the authors who have sold 0 titles should also appear in your output (ideally display 0 instead of NULL as the TOTAL). Also order your results based on TOTAL from high to low."
   ],
   "cell_type": "markdown",
   "metadata": {}
  },
  {
   "cell_type": "code",
   "execution_count": 10,
   "metadata": {},
   "outputs": [],
   "source": [
    "# Define the queries and the connection with the Database\n",
    "\n",
    "query4 = '''\n",
    "SELECT a.au_id as AUTHOR_ID, a.au_lname as LAST_NAME, a.au_fname as FIRST_NAME, sum(s.qty) as TOTAL\n",
    "FROM sales s INNER JOIN titles t on t.title_id = s.title_id INNER JOIN titleauthor ta on t.title_id = ta.title_id\n",
    "INNER JOIN authors a on a.au_id = ta.au_id\n",
    "GROUP BY a.au_id, a.au_lname, a.au_fname\n",
    "ORDER BY TOTAL desc\n",
    "LIMIT 23\n",
    "'''"
   ]
  },
  {
   "cell_type": "code",
   "execution_count": 11,
   "metadata": {},
   "outputs": [
    {
     "output_type": "execute_result",
     "data": {
      "text/plain": [
       "      AUTHOR_ID       LAST_NAME FIRST_NAME  TOTAL\n",
       "0   899-46-2035          Ringer       Anne    148\n",
       "1   998-72-3567          Ringer     Albert    133\n",
       "2   213-46-8915           Green   Marjorie     50\n",
       "3   427-17-2319            Dull        Ann     50\n",
       "4   846-92-7186          Hunter     Sheryl     50\n",
       "5   267-41-2394         O'Leary    Michael     45\n",
       "6   724-80-9391      MacFeather    Stearns     45\n",
       "7   722-51-5454        DeFrance     Michel     40\n",
       "8   807-91-6654        Panteley     Sylvia     40\n",
       "9   238-95-7766          Carson     Cheryl     30\n",
       "10  486-29-1786        Locksley   Charlene     25\n",
       "11  472-27-2349      Gringlesby       Burt     20\n",
       "12  648-92-1872  Blotchet-Halls   Reginald     20\n",
       "13  672-71-3249        Yokomoto      Akiko     20\n",
       "14  756-30-7391          Karsen      Livia     20\n",
       "15  172-32-1176           White    Johnson     15\n",
       "16  274-80-9391        Straight       Dean     15\n",
       "17  409-56-7008          Bennet    Abraham     15\n",
       "18  712-45-1867    del Castillo      Innes     10"
      ],
      "text/html": "<div>\n<style scoped>\n    .dataframe tbody tr th:only-of-type {\n        vertical-align: middle;\n    }\n\n    .dataframe tbody tr th {\n        vertical-align: top;\n    }\n\n    .dataframe thead th {\n        text-align: right;\n    }\n</style>\n<table border=\"1\" class=\"dataframe\">\n  <thead>\n    <tr style=\"text-align: right;\">\n      <th></th>\n      <th>AUTHOR_ID</th>\n      <th>LAST_NAME</th>\n      <th>FIRST_NAME</th>\n      <th>TOTAL</th>\n    </tr>\n  </thead>\n  <tbody>\n    <tr>\n      <th>0</th>\n      <td>899-46-2035</td>\n      <td>Ringer</td>\n      <td>Anne</td>\n      <td>148</td>\n    </tr>\n    <tr>\n      <th>1</th>\n      <td>998-72-3567</td>\n      <td>Ringer</td>\n      <td>Albert</td>\n      <td>133</td>\n    </tr>\n    <tr>\n      <th>2</th>\n      <td>213-46-8915</td>\n      <td>Green</td>\n      <td>Marjorie</td>\n      <td>50</td>\n    </tr>\n    <tr>\n      <th>3</th>\n      <td>427-17-2319</td>\n      <td>Dull</td>\n      <td>Ann</td>\n      <td>50</td>\n    </tr>\n    <tr>\n      <th>4</th>\n      <td>846-92-7186</td>\n      <td>Hunter</td>\n      <td>Sheryl</td>\n      <td>50</td>\n    </tr>\n    <tr>\n      <th>5</th>\n      <td>267-41-2394</td>\n      <td>O'Leary</td>\n      <td>Michael</td>\n      <td>45</td>\n    </tr>\n    <tr>\n      <th>6</th>\n      <td>724-80-9391</td>\n      <td>MacFeather</td>\n      <td>Stearns</td>\n      <td>45</td>\n    </tr>\n    <tr>\n      <th>7</th>\n      <td>722-51-5454</td>\n      <td>DeFrance</td>\n      <td>Michel</td>\n      <td>40</td>\n    </tr>\n    <tr>\n      <th>8</th>\n      <td>807-91-6654</td>\n      <td>Panteley</td>\n      <td>Sylvia</td>\n      <td>40</td>\n    </tr>\n    <tr>\n      <th>9</th>\n      <td>238-95-7766</td>\n      <td>Carson</td>\n      <td>Cheryl</td>\n      <td>30</td>\n    </tr>\n    <tr>\n      <th>10</th>\n      <td>486-29-1786</td>\n      <td>Locksley</td>\n      <td>Charlene</td>\n      <td>25</td>\n    </tr>\n    <tr>\n      <th>11</th>\n      <td>472-27-2349</td>\n      <td>Gringlesby</td>\n      <td>Burt</td>\n      <td>20</td>\n    </tr>\n    <tr>\n      <th>12</th>\n      <td>648-92-1872</td>\n      <td>Blotchet-Halls</td>\n      <td>Reginald</td>\n      <td>20</td>\n    </tr>\n    <tr>\n      <th>13</th>\n      <td>672-71-3249</td>\n      <td>Yokomoto</td>\n      <td>Akiko</td>\n      <td>20</td>\n    </tr>\n    <tr>\n      <th>14</th>\n      <td>756-30-7391</td>\n      <td>Karsen</td>\n      <td>Livia</td>\n      <td>20</td>\n    </tr>\n    <tr>\n      <th>15</th>\n      <td>172-32-1176</td>\n      <td>White</td>\n      <td>Johnson</td>\n      <td>15</td>\n    </tr>\n    <tr>\n      <th>16</th>\n      <td>274-80-9391</td>\n      <td>Straight</td>\n      <td>Dean</td>\n      <td>15</td>\n    </tr>\n    <tr>\n      <th>17</th>\n      <td>409-56-7008</td>\n      <td>Bennet</td>\n      <td>Abraham</td>\n      <td>15</td>\n    </tr>\n    <tr>\n      <th>18</th>\n      <td>712-45-1867</td>\n      <td>del Castillo</td>\n      <td>Innes</td>\n      <td>10</td>\n    </tr>\n  </tbody>\n</table>\n</div>"
     },
     "metadata": {},
     "execution_count": 11
    }
   ],
   "source": [
    "# Call the query from the data base with pandas\n",
    "\n",
    "df4 = pd.read_sql(query4, db_url)\n",
    "df4"
   ]
  },
  {
   "source": [
    "## Bonus Challenge - Most Profiting Authors"
   ],
   "cell_type": "markdown",
   "metadata": {}
  },
  {
   "source": [
    "Authors earn money from their book sales in two ways: advance and royalties. An advance is the money that the publisher pays the author before the book comes out. The royalties the author will receive is typically a percentage of the entire book sales. The total profit an author receives by publishing a book is the sum of the advance and the royalties.\n",
    "\n",
    "Given the information above, who are the 3 most profiting authors and how much royalties each of them have received? Write a query to find out.\n",
    "\n",
    "Requirements:\n",
    "\n",
    "Your output should have the following columns:\n",
    "- AUTHOR_ID - the ID of the author\n",
    "- LAST_NAME - author last name\n",
    "- FIRST_NAME - author first name\n",
    "- PROFIT - total profit the author has received combining the advance and royalties\n",
    "\n",
    "Your output should be ordered from higher PROFIT values to lower values.\n",
    "\n",
    "Only output the top 3 most profiting authors.\n"
   ],
   "cell_type": "markdown",
   "metadata": {}
  },
  {
   "cell_type": "code",
   "execution_count": 12,
   "metadata": {},
   "outputs": [],
   "source": [
    "# Define the queries and the connection with the Database\n",
    "\n",
    "query5 = '''\n",
    "with profit_authors as\n",
    "(SELECT a.au_id as AUTHOR_ID, a.au_lname as LAST_NAME, a.au_fname as FIRST_NAME, t.title as TITLE, t.advance * ta.royaltyper / 100\n",
    "as TOTAL_ADV, sum(t.price * s.qty * ta.royaltyper / 100 * t.royalty / 100) as TOTAL_ROY\n",
    "FROM sales s INNER JOIN titles t on t.title_id = s.title_id INNER JOIN titleauthor ta on t.title_id = ta.title_id\n",
    "INNER JOIN authors a on a.au_id = ta.au_id\n",
    "GROUP BY AUTHOR_ID, LAST_NAME,FIRST_NAME, TITLE, TOTAL_ADV\n",
    "ORDER BY t.title)\n",
    "SELECT AUTHOR_ID, LAST_NAME, FIRST_NAME, ROUND(SUM(TOTAL_ADV + TOTAL_ROY),1) as BENEFIT\n",
    "FROM profit_authors\n",
    "GROUP BY AUTHOR_ID\n",
    "ORDER BY BENEFIT DESC\n",
    "LIMIT 3\n",
    "'''"
   ]
  },
  {
   "cell_type": "code",
   "execution_count": 13,
   "metadata": {},
   "outputs": [
    {
     "output_type": "execute_result",
     "data": {
      "text/plain": [
       "     AUTHOR_ID LAST_NAME FIRST_NAME  BENEFIT\n",
       "0  213-46-8915     Green   Marjorie  12162.1\n",
       "1  722-51-5454  DeFrance     Michel  11271.5\n",
       "2  998-72-3567    Ringer     Albert   7225.0"
      ],
      "text/html": "<div>\n<style scoped>\n    .dataframe tbody tr th:only-of-type {\n        vertical-align: middle;\n    }\n\n    .dataframe tbody tr th {\n        vertical-align: top;\n    }\n\n    .dataframe thead th {\n        text-align: right;\n    }\n</style>\n<table border=\"1\" class=\"dataframe\">\n  <thead>\n    <tr style=\"text-align: right;\">\n      <th></th>\n      <th>AUTHOR_ID</th>\n      <th>LAST_NAME</th>\n      <th>FIRST_NAME</th>\n      <th>BENEFIT</th>\n    </tr>\n  </thead>\n  <tbody>\n    <tr>\n      <th>0</th>\n      <td>213-46-8915</td>\n      <td>Green</td>\n      <td>Marjorie</td>\n      <td>12162.1</td>\n    </tr>\n    <tr>\n      <th>1</th>\n      <td>722-51-5454</td>\n      <td>DeFrance</td>\n      <td>Michel</td>\n      <td>11271.5</td>\n    </tr>\n    <tr>\n      <th>2</th>\n      <td>998-72-3567</td>\n      <td>Ringer</td>\n      <td>Albert</td>\n      <td>7225.0</td>\n    </tr>\n  </tbody>\n</table>\n</div>"
     },
     "metadata": {},
     "execution_count": 13
    }
   ],
   "source": [
    "# Call the query from the data base with pandas\n",
    "\n",
    "df5 = pd.read_sql(query5, db_url)\n",
    "df5"
   ]
  }
 ]
}