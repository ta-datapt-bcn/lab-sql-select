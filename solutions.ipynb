{
 "metadata": {
  "language_info": {
   "codemirror_mode": {
    "name": "ipython",
    "version": 3
   },
   "file_extension": ".py",
   "mimetype": "text/x-python",
   "name": "python",
   "nbconvert_exporter": "python",
   "pygments_lexer": "ipython3",
   "version": "3.8.5-final"
  },
  "orig_nbformat": 2,
  "kernelspec": {
   "name": "python385jvsc74a57bd059eaf4d6d74e1d9eec5b10c94472bd4b4513ca1fc34db018fc328b2040b24e92",
   "display_name": "Python 3.8.5 64-bit ('base': conda)"
  }
 },
 "nbformat": 4,
 "nbformat_minor": 2,
 "cells": [
  {
   "cell_type": "code",
   "execution_count": 6,
   "metadata": {},
   "outputs": [
    {
     "output_type": "stream",
     "name": "stdout",
     "text": [
      "The sql extension is already loaded. To reload it, use:\n  %reload_ext sql\n"
     ]
    }
   ],
   "source": [
    "%load_ext sql"
   ]
  },
  {
   "cell_type": "code",
   "execution_count": 7,
   "metadata": {},
   "outputs": [
    {
     "output_type": "execute_result",
     "data": {
      "text/plain": [
       "'Connected: @publications.db'"
      ]
     },
     "metadata": {},
     "execution_count": 7
    }
   ],
   "source": [
    "%sql sqlite:///publications.db"
   ]
  },
  {
   "cell_type": "code",
   "execution_count": 8,
   "metadata": {},
   "outputs": [
    {
     "output_type": "stream",
     "name": "stdout",
     "text": [
      " * sqlite:///publications.db\nDone.\n"
     ]
    },
    {
     "output_type": "execute_result",
     "data": {
      "text/plain": [
       "[('172-32-1176', 'White', 'Johnson', 'Prolonged Data Deprivation: Four Case Studies', 'New Moon Books'),\n",
       " ('213-46-8915', 'Green', 'Marjorie', \"The Busy Executive's Database Guide\", 'Algodata Infosystems'),\n",
       " ('213-46-8915', 'Green', 'Marjorie', 'You Can Combat Computer Stress!', 'New Moon Books'),\n",
       " ('238-95-7766', 'Carson', 'Cheryl', 'But Is It User Friendly?', 'Algodata Infosystems'),\n",
       " ('267-41-2394', \"O'Leary\", 'Michael', 'Cooking with Computers: Surreptitious Balance Sheets', 'Algodata Infosystems'),\n",
       " ('267-41-2394', \"O'Leary\", 'Michael', 'Sushi, Anyone?', 'Binnet & Hardley'),\n",
       " ('274-80-9391', 'Straight', 'Dean', 'Straight Talk About Computers', 'Algodata Infosystems'),\n",
       " ('409-56-7008', 'Bennet', 'Abraham', \"The Busy Executive's Database Guide\", 'Algodata Infosystems'),\n",
       " ('427-17-2319', 'Dull', 'Ann', 'Secrets of Silicon Valley', 'Algodata Infosystems'),\n",
       " ('472-27-2349', 'Gringlesby', 'Burt', 'Sushi, Anyone?', 'Binnet & Hardley'),\n",
       " ('486-29-1786', 'Locksley', 'Charlene', 'Net Etiquette', 'Algodata Infosystems'),\n",
       " ('486-29-1786', 'Locksley', 'Charlene', 'Emotional Security: A New Algorithm', 'New Moon Books'),\n",
       " ('648-92-1872', 'Blotchet-Halls', 'Reginald', 'Fifty Years in Buckingham Palace Kitchens', 'Binnet & Hardley'),\n",
       " ('672-71-3249', 'Yokomoto', 'Akiko', 'Sushi, Anyone?', 'Binnet & Hardley'),\n",
       " ('712-45-1867', 'del Castillo', 'Innes', 'Silicon Valley Gastronomic Treats', 'Binnet & Hardley'),\n",
       " ('722-51-5454', 'DeFrance', 'Michel', 'The Gourmet Microwave', 'Binnet & Hardley'),\n",
       " ('724-80-9391', 'MacFeather', 'Stearns', 'Cooking with Computers: Surreptitious Balance Sheets', 'Algodata Infosystems'),\n",
       " ('724-80-9391', 'MacFeather', 'Stearns', 'Computer Phobic AND Non-Phobic Individuals: Behavior Variations', 'Binnet & Hardley'),\n",
       " ('756-30-7391', 'Karsen', 'Livia', 'Computer Phobic AND Non-Phobic Individuals: Behavior Variations', 'Binnet & Hardley'),\n",
       " ('807-91-6654', 'Panteley', 'Sylvia', 'Onions, Leeks, and Garlic: Cooking Secrets of the Mediterranean', 'Binnet & Hardley'),\n",
       " ('846-92-7186', 'Hunter', 'Sheryl', 'Secrets of Silicon Valley', 'Algodata Infosystems'),\n",
       " ('899-46-2035', 'Ringer', 'Anne', 'The Gourmet Microwave', 'Binnet & Hardley'),\n",
       " ('899-46-2035', 'Ringer', 'Anne', 'Is Anger the Enemy?', 'New Moon Books'),\n",
       " ('998-72-3567', 'Ringer', 'Albert', 'Is Anger the Enemy?', 'New Moon Books'),\n",
       " ('998-72-3567', 'Ringer', 'Albert', 'Life Without Fear', 'New Moon Books')]"
      ],
      "text/html": "<table>\n    <thead>\n        <tr>\n            <th>au_id</th>\n            <th>au_lname</th>\n            <th>au_fname</th>\n            <th>title</th>\n            <th>pub_name</th>\n        </tr>\n    </thead>\n    <tbody>\n        <tr>\n            <td>172-32-1176</td>\n            <td>White</td>\n            <td>Johnson</td>\n            <td>Prolonged Data Deprivation: Four Case Studies</td>\n            <td>New Moon Books</td>\n        </tr>\n        <tr>\n            <td>213-46-8915</td>\n            <td>Green</td>\n            <td>Marjorie</td>\n            <td>The Busy Executive&#x27;s Database Guide</td>\n            <td>Algodata Infosystems</td>\n        </tr>\n        <tr>\n            <td>213-46-8915</td>\n            <td>Green</td>\n            <td>Marjorie</td>\n            <td>You Can Combat Computer Stress!</td>\n            <td>New Moon Books</td>\n        </tr>\n        <tr>\n            <td>238-95-7766</td>\n            <td>Carson</td>\n            <td>Cheryl</td>\n            <td>But Is It User Friendly?</td>\n            <td>Algodata Infosystems</td>\n        </tr>\n        <tr>\n            <td>267-41-2394</td>\n            <td>O&#x27;Leary</td>\n            <td>Michael</td>\n            <td>Cooking with Computers: Surreptitious Balance Sheets</td>\n            <td>Algodata Infosystems</td>\n        </tr>\n        <tr>\n            <td>267-41-2394</td>\n            <td>O&#x27;Leary</td>\n            <td>Michael</td>\n            <td>Sushi, Anyone?</td>\n            <td>Binnet &amp; Hardley</td>\n        </tr>\n        <tr>\n            <td>274-80-9391</td>\n            <td>Straight</td>\n            <td>Dean</td>\n            <td>Straight Talk About Computers</td>\n            <td>Algodata Infosystems</td>\n        </tr>\n        <tr>\n            <td>409-56-7008</td>\n            <td>Bennet</td>\n            <td>Abraham</td>\n            <td>The Busy Executive&#x27;s Database Guide</td>\n            <td>Algodata Infosystems</td>\n        </tr>\n        <tr>\n            <td>427-17-2319</td>\n            <td>Dull</td>\n            <td>Ann</td>\n            <td>Secrets of Silicon Valley</td>\n            <td>Algodata Infosystems</td>\n        </tr>\n        <tr>\n            <td>472-27-2349</td>\n            <td>Gringlesby</td>\n            <td>Burt</td>\n            <td>Sushi, Anyone?</td>\n            <td>Binnet &amp; Hardley</td>\n        </tr>\n        <tr>\n            <td>486-29-1786</td>\n            <td>Locksley</td>\n            <td>Charlene</td>\n            <td>Net Etiquette</td>\n            <td>Algodata Infosystems</td>\n        </tr>\n        <tr>\n            <td>486-29-1786</td>\n            <td>Locksley</td>\n            <td>Charlene</td>\n            <td>Emotional Security: A New Algorithm</td>\n            <td>New Moon Books</td>\n        </tr>\n        <tr>\n            <td>648-92-1872</td>\n            <td>Blotchet-Halls</td>\n            <td>Reginald</td>\n            <td>Fifty Years in Buckingham Palace Kitchens</td>\n            <td>Binnet &amp; Hardley</td>\n        </tr>\n        <tr>\n            <td>672-71-3249</td>\n            <td>Yokomoto</td>\n            <td>Akiko</td>\n            <td>Sushi, Anyone?</td>\n            <td>Binnet &amp; Hardley</td>\n        </tr>\n        <tr>\n            <td>712-45-1867</td>\n            <td>del Castillo</td>\n            <td>Innes</td>\n            <td>Silicon Valley Gastronomic Treats</td>\n            <td>Binnet &amp; Hardley</td>\n        </tr>\n        <tr>\n            <td>722-51-5454</td>\n            <td>DeFrance</td>\n            <td>Michel</td>\n            <td>The Gourmet Microwave</td>\n            <td>Binnet &amp; Hardley</td>\n        </tr>\n        <tr>\n            <td>724-80-9391</td>\n            <td>MacFeather</td>\n            <td>Stearns</td>\n            <td>Cooking with Computers: Surreptitious Balance Sheets</td>\n            <td>Algodata Infosystems</td>\n        </tr>\n        <tr>\n            <td>724-80-9391</td>\n            <td>MacFeather</td>\n            <td>Stearns</td>\n            <td>Computer Phobic AND Non-Phobic Individuals: Behavior Variations</td>\n            <td>Binnet &amp; Hardley</td>\n        </tr>\n        <tr>\n            <td>756-30-7391</td>\n            <td>Karsen</td>\n            <td>Livia</td>\n            <td>Computer Phobic AND Non-Phobic Individuals: Behavior Variations</td>\n            <td>Binnet &amp; Hardley</td>\n        </tr>\n        <tr>\n            <td>807-91-6654</td>\n            <td>Panteley</td>\n            <td>Sylvia</td>\n            <td>Onions, Leeks, and Garlic: Cooking Secrets of the Mediterranean</td>\n            <td>Binnet &amp; Hardley</td>\n        </tr>\n        <tr>\n            <td>846-92-7186</td>\n            <td>Hunter</td>\n            <td>Sheryl</td>\n            <td>Secrets of Silicon Valley</td>\n            <td>Algodata Infosystems</td>\n        </tr>\n        <tr>\n            <td>899-46-2035</td>\n            <td>Ringer</td>\n            <td>Anne</td>\n            <td>The Gourmet Microwave</td>\n            <td>Binnet &amp; Hardley</td>\n        </tr>\n        <tr>\n            <td>899-46-2035</td>\n            <td>Ringer</td>\n            <td>Anne</td>\n            <td>Is Anger the Enemy?</td>\n            <td>New Moon Books</td>\n        </tr>\n        <tr>\n            <td>998-72-3567</td>\n            <td>Ringer</td>\n            <td>Albert</td>\n            <td>Is Anger the Enemy?</td>\n            <td>New Moon Books</td>\n        </tr>\n        <tr>\n            <td>998-72-3567</td>\n            <td>Ringer</td>\n            <td>Albert</td>\n            <td>Life Without Fear</td>\n            <td>New Moon Books</td>\n        </tr>\n    </tbody>\n</table>"
     },
     "metadata": {},
     "execution_count": 8
    }
   ],
   "source": [
    "%%sql\n",
    "\n",
    "select auth.au_id, auth.au_lname, auth.au_fname, tit.title, pub.pub_name\n",
    "from authors as auth inner join titleauthor as ta on auth.au_id = ta.au_id\n",
    "                     inner join titles as tit on ta.title_id = tit.title_id\n",
    "                     inner join publishers as pub on tit.pub_id = pub.pub_id"
   ]
  },
  {
   "cell_type": "code",
   "execution_count": 9,
   "metadata": {},
   "outputs": [
    {
     "output_type": "stream",
     "name": "stdout",
     "text": [
      " * sqlite:///publications.db\nDone.\n"
     ]
    },
    {
     "output_type": "execute_result",
     "data": {
      "text/plain": [
       "[('172-32-1176', 'White', 'Johnson', 'New Moon Books', 1),\n",
       " ('213-46-8915', 'Green', 'Marjorie', 'Algodata Infosystems', 1),\n",
       " ('213-46-8915', 'Green', 'Marjorie', 'New Moon Books', 1),\n",
       " ('238-95-7766', 'Carson', 'Cheryl', 'Algodata Infosystems', 1),\n",
       " ('267-41-2394', \"O'Leary\", 'Michael', 'Algodata Infosystems', 1),\n",
       " ('267-41-2394', \"O'Leary\", 'Michael', 'Binnet & Hardley', 1),\n",
       " ('274-80-9391', 'Straight', 'Dean', 'Algodata Infosystems', 1),\n",
       " ('409-56-7008', 'Bennet', 'Abraham', 'Algodata Infosystems', 1),\n",
       " ('427-17-2319', 'Dull', 'Ann', 'Algodata Infosystems', 1),\n",
       " ('472-27-2349', 'Gringlesby', 'Burt', 'Binnet & Hardley', 1),\n",
       " ('486-29-1786', 'Locksley', 'Charlene', 'Algodata Infosystems', 1),\n",
       " ('486-29-1786', 'Locksley', 'Charlene', 'New Moon Books', 1),\n",
       " ('648-92-1872', 'Blotchet-Halls', 'Reginald', 'Binnet & Hardley', 1),\n",
       " ('672-71-3249', 'Yokomoto', 'Akiko', 'Binnet & Hardley', 1),\n",
       " ('712-45-1867', 'del Castillo', 'Innes', 'Binnet & Hardley', 1),\n",
       " ('722-51-5454', 'DeFrance', 'Michel', 'Binnet & Hardley', 1),\n",
       " ('724-80-9391', 'MacFeather', 'Stearns', 'Algodata Infosystems', 1),\n",
       " ('724-80-9391', 'MacFeather', 'Stearns', 'Binnet & Hardley', 1),\n",
       " ('756-30-7391', 'Karsen', 'Livia', 'Binnet & Hardley', 1),\n",
       " ('807-91-6654', 'Panteley', 'Sylvia', 'Binnet & Hardley', 1),\n",
       " ('846-92-7186', 'Hunter', 'Sheryl', 'Algodata Infosystems', 1),\n",
       " ('899-46-2035', 'Ringer', 'Anne', 'Binnet & Hardley', 1),\n",
       " ('899-46-2035', 'Ringer', 'Anne', 'New Moon Books', 1),\n",
       " ('998-72-3567', 'Ringer', 'Albert', 'New Moon Books', 2)]"
      ],
      "text/html": "<table>\n    <thead>\n        <tr>\n            <th>au_id</th>\n            <th>au_lname</th>\n            <th>au_fname</th>\n            <th>pub_name</th>\n            <th>number_titles</th>\n        </tr>\n    </thead>\n    <tbody>\n        <tr>\n            <td>172-32-1176</td>\n            <td>White</td>\n            <td>Johnson</td>\n            <td>New Moon Books</td>\n            <td>1</td>\n        </tr>\n        <tr>\n            <td>213-46-8915</td>\n            <td>Green</td>\n            <td>Marjorie</td>\n            <td>Algodata Infosystems</td>\n            <td>1</td>\n        </tr>\n        <tr>\n            <td>213-46-8915</td>\n            <td>Green</td>\n            <td>Marjorie</td>\n            <td>New Moon Books</td>\n            <td>1</td>\n        </tr>\n        <tr>\n            <td>238-95-7766</td>\n            <td>Carson</td>\n            <td>Cheryl</td>\n            <td>Algodata Infosystems</td>\n            <td>1</td>\n        </tr>\n        <tr>\n            <td>267-41-2394</td>\n            <td>O&#x27;Leary</td>\n            <td>Michael</td>\n            <td>Algodata Infosystems</td>\n            <td>1</td>\n        </tr>\n        <tr>\n            <td>267-41-2394</td>\n            <td>O&#x27;Leary</td>\n            <td>Michael</td>\n            <td>Binnet &amp; Hardley</td>\n            <td>1</td>\n        </tr>\n        <tr>\n            <td>274-80-9391</td>\n            <td>Straight</td>\n            <td>Dean</td>\n            <td>Algodata Infosystems</td>\n            <td>1</td>\n        </tr>\n        <tr>\n            <td>409-56-7008</td>\n            <td>Bennet</td>\n            <td>Abraham</td>\n            <td>Algodata Infosystems</td>\n            <td>1</td>\n        </tr>\n        <tr>\n            <td>427-17-2319</td>\n            <td>Dull</td>\n            <td>Ann</td>\n            <td>Algodata Infosystems</td>\n            <td>1</td>\n        </tr>\n        <tr>\n            <td>472-27-2349</td>\n            <td>Gringlesby</td>\n            <td>Burt</td>\n            <td>Binnet &amp; Hardley</td>\n            <td>1</td>\n        </tr>\n        <tr>\n            <td>486-29-1786</td>\n            <td>Locksley</td>\n            <td>Charlene</td>\n            <td>Algodata Infosystems</td>\n            <td>1</td>\n        </tr>\n        <tr>\n            <td>486-29-1786</td>\n            <td>Locksley</td>\n            <td>Charlene</td>\n            <td>New Moon Books</td>\n            <td>1</td>\n        </tr>\n        <tr>\n            <td>648-92-1872</td>\n            <td>Blotchet-Halls</td>\n            <td>Reginald</td>\n            <td>Binnet &amp; Hardley</td>\n            <td>1</td>\n        </tr>\n        <tr>\n            <td>672-71-3249</td>\n            <td>Yokomoto</td>\n            <td>Akiko</td>\n            <td>Binnet &amp; Hardley</td>\n            <td>1</td>\n        </tr>\n        <tr>\n            <td>712-45-1867</td>\n            <td>del Castillo</td>\n            <td>Innes</td>\n            <td>Binnet &amp; Hardley</td>\n            <td>1</td>\n        </tr>\n        <tr>\n            <td>722-51-5454</td>\n            <td>DeFrance</td>\n            <td>Michel</td>\n            <td>Binnet &amp; Hardley</td>\n            <td>1</td>\n        </tr>\n        <tr>\n            <td>724-80-9391</td>\n            <td>MacFeather</td>\n            <td>Stearns</td>\n            <td>Algodata Infosystems</td>\n            <td>1</td>\n        </tr>\n        <tr>\n            <td>724-80-9391</td>\n            <td>MacFeather</td>\n            <td>Stearns</td>\n            <td>Binnet &amp; Hardley</td>\n            <td>1</td>\n        </tr>\n        <tr>\n            <td>756-30-7391</td>\n            <td>Karsen</td>\n            <td>Livia</td>\n            <td>Binnet &amp; Hardley</td>\n            <td>1</td>\n        </tr>\n        <tr>\n            <td>807-91-6654</td>\n            <td>Panteley</td>\n            <td>Sylvia</td>\n            <td>Binnet &amp; Hardley</td>\n            <td>1</td>\n        </tr>\n        <tr>\n            <td>846-92-7186</td>\n            <td>Hunter</td>\n            <td>Sheryl</td>\n            <td>Algodata Infosystems</td>\n            <td>1</td>\n        </tr>\n        <tr>\n            <td>899-46-2035</td>\n            <td>Ringer</td>\n            <td>Anne</td>\n            <td>Binnet &amp; Hardley</td>\n            <td>1</td>\n        </tr>\n        <tr>\n            <td>899-46-2035</td>\n            <td>Ringer</td>\n            <td>Anne</td>\n            <td>New Moon Books</td>\n            <td>1</td>\n        </tr>\n        <tr>\n            <td>998-72-3567</td>\n            <td>Ringer</td>\n            <td>Albert</td>\n            <td>New Moon Books</td>\n            <td>2</td>\n        </tr>\n    </tbody>\n</table>"
     },
     "metadata": {},
     "execution_count": 9
    }
   ],
   "source": [
    "%%sql\n",
    "\n",
    "select auth.au_id, auth.au_lname, auth.au_fname, pub.pub_name, count(tit.title) as number_titles \n",
    "from authors as auth inner join titleauthor as ta on auth.au_id = ta.au_id\n",
    "                     inner join titles as tit on ta.title_id = tit.title_id\n",
    "                     inner join publishers as pub on tit.pub_id = pub.pub_id\n",
    "group by auth.au_id, pub.pub_name"
   ]
  },
  {
   "cell_type": "code",
   "execution_count": 10,
   "metadata": {},
   "outputs": [
    {
     "output_type": "stream",
     "name": "stdout",
     "text": [
      " * sqlite:///publications.db\nDone.\n"
     ]
    },
    {
     "output_type": "execute_result",
     "data": {
      "text/plain": [
       "[('213-46-8915', 'Green', 'Marjorie', 2),\n",
       " ('267-41-2394', \"O'Leary\", 'Michael', 2),\n",
       " ('486-29-1786', 'Locksley', 'Charlene', 2),\n",
       " ('724-80-9391', 'MacFeather', 'Stearns', 2),\n",
       " ('899-46-2035', 'Ringer', 'Anne', 2),\n",
       " ('998-72-3567', 'Ringer', 'Albert', 2),\n",
       " ('172-32-1176', 'White', 'Johnson', 1),\n",
       " ('238-95-7766', 'Carson', 'Cheryl', 1),\n",
       " ('274-80-9391', 'Straight', 'Dean', 1),\n",
       " ('409-56-7008', 'Bennet', 'Abraham', 1),\n",
       " ('427-17-2319', 'Dull', 'Ann', 1),\n",
       " ('472-27-2349', 'Gringlesby', 'Burt', 1),\n",
       " ('648-92-1872', 'Blotchet-Halls', 'Reginald', 1),\n",
       " ('672-71-3249', 'Yokomoto', 'Akiko', 1),\n",
       " ('712-45-1867', 'del Castillo', 'Innes', 1),\n",
       " ('722-51-5454', 'DeFrance', 'Michel', 1),\n",
       " ('756-30-7391', 'Karsen', 'Livia', 1),\n",
       " ('807-91-6654', 'Panteley', 'Sylvia', 1),\n",
       " ('846-92-7186', 'Hunter', 'Sheryl', 1),\n",
       " ('341-22-1782', 'Smith', 'Meander', 0),\n",
       " ('527-72-3246', 'Greene', 'Morningstar', 0),\n",
       " ('724-08-9931', 'Stringer', 'Dirk', 0),\n",
       " ('893-72-1158', 'McBadden', 'Heather', 0)]"
      ],
      "text/html": "<table>\n    <thead>\n        <tr>\n            <th>au_id</th>\n            <th>au_lname</th>\n            <th>au_fname</th>\n            <th>total_titles</th>\n        </tr>\n    </thead>\n    <tbody>\n        <tr>\n            <td>213-46-8915</td>\n            <td>Green</td>\n            <td>Marjorie</td>\n            <td>2</td>\n        </tr>\n        <tr>\n            <td>267-41-2394</td>\n            <td>O&#x27;Leary</td>\n            <td>Michael</td>\n            <td>2</td>\n        </tr>\n        <tr>\n            <td>486-29-1786</td>\n            <td>Locksley</td>\n            <td>Charlene</td>\n            <td>2</td>\n        </tr>\n        <tr>\n            <td>724-80-9391</td>\n            <td>MacFeather</td>\n            <td>Stearns</td>\n            <td>2</td>\n        </tr>\n        <tr>\n            <td>899-46-2035</td>\n            <td>Ringer</td>\n            <td>Anne</td>\n            <td>2</td>\n        </tr>\n        <tr>\n            <td>998-72-3567</td>\n            <td>Ringer</td>\n            <td>Albert</td>\n            <td>2</td>\n        </tr>\n        <tr>\n            <td>172-32-1176</td>\n            <td>White</td>\n            <td>Johnson</td>\n            <td>1</td>\n        </tr>\n        <tr>\n            <td>238-95-7766</td>\n            <td>Carson</td>\n            <td>Cheryl</td>\n            <td>1</td>\n        </tr>\n        <tr>\n            <td>274-80-9391</td>\n            <td>Straight</td>\n            <td>Dean</td>\n            <td>1</td>\n        </tr>\n        <tr>\n            <td>409-56-7008</td>\n            <td>Bennet</td>\n            <td>Abraham</td>\n            <td>1</td>\n        </tr>\n        <tr>\n            <td>427-17-2319</td>\n            <td>Dull</td>\n            <td>Ann</td>\n            <td>1</td>\n        </tr>\n        <tr>\n            <td>472-27-2349</td>\n            <td>Gringlesby</td>\n            <td>Burt</td>\n            <td>1</td>\n        </tr>\n        <tr>\n            <td>648-92-1872</td>\n            <td>Blotchet-Halls</td>\n            <td>Reginald</td>\n            <td>1</td>\n        </tr>\n        <tr>\n            <td>672-71-3249</td>\n            <td>Yokomoto</td>\n            <td>Akiko</td>\n            <td>1</td>\n        </tr>\n        <tr>\n            <td>712-45-1867</td>\n            <td>del Castillo</td>\n            <td>Innes</td>\n            <td>1</td>\n        </tr>\n        <tr>\n            <td>722-51-5454</td>\n            <td>DeFrance</td>\n            <td>Michel</td>\n            <td>1</td>\n        </tr>\n        <tr>\n            <td>756-30-7391</td>\n            <td>Karsen</td>\n            <td>Livia</td>\n            <td>1</td>\n        </tr>\n        <tr>\n            <td>807-91-6654</td>\n            <td>Panteley</td>\n            <td>Sylvia</td>\n            <td>1</td>\n        </tr>\n        <tr>\n            <td>846-92-7186</td>\n            <td>Hunter</td>\n            <td>Sheryl</td>\n            <td>1</td>\n        </tr>\n        <tr>\n            <td>341-22-1782</td>\n            <td>Smith</td>\n            <td>Meander</td>\n            <td>0</td>\n        </tr>\n        <tr>\n            <td>527-72-3246</td>\n            <td>Greene</td>\n            <td>Morningstar</td>\n            <td>0</td>\n        </tr>\n        <tr>\n            <td>724-08-9931</td>\n            <td>Stringer</td>\n            <td>Dirk</td>\n            <td>0</td>\n        </tr>\n        <tr>\n            <td>893-72-1158</td>\n            <td>McBadden</td>\n            <td>Heather</td>\n            <td>0</td>\n        </tr>\n    </tbody>\n</table>"
     },
     "metadata": {},
     "execution_count": 10
    }
   ],
   "source": [
    "%%sql\n",
    "\n",
    "select auth.au_id, auth.au_lname, auth.au_fname, count(tit.title) as total_titles \n",
    "from authors as auth left join titleauthor as ta on auth.au_id = ta.au_id\n",
    "                     left join titles as tit on ta.title_id = tit.title_id\n",
    "group by auth.au_id\n",
    "order by total_titles desc"
   ]
  },
  {
   "cell_type": "code",
   "execution_count": 13,
   "metadata": {},
   "outputs": [
    {
     "output_type": "stream",
     "name": "stdout",
     "text": [
      " * sqlite:///publications.db\nDone.\n"
     ]
    },
    {
     "output_type": "execute_result",
     "data": {
      "text/plain": [
       "[('722-51-5454', 'Michel', 'DeFrance', 'MC3021', 'The Gourmet Microwave', 15000, 21.53, 15021.53),\n",
       " ('899-46-2035', 'Anne', 'Ringer', 'MC3021', 'The Gourmet Microwave', 15000, 7.18, 15007.18),\n",
       " ('213-46-8915', 'Marjorie', 'Green', 'BU2075', 'You Can Combat Computer Stress!', 10125, 25.12, 10150.12)]"
      ],
      "text/html": "<table>\n    <thead>\n        <tr>\n            <th>author_id</th>\n            <th>FirstName</th>\n            <th>LastName</th>\n            <th>title_id</th>\n            <th>title</th>\n            <th>advance</th>\n            <th>sales_royalties</th>\n            <th>total_income</th>\n        </tr>\n    </thead>\n    <tbody>\n        <tr>\n            <td>722-51-5454</td>\n            <td>Michel</td>\n            <td>DeFrance</td>\n            <td>MC3021</td>\n            <td>The Gourmet Microwave</td>\n            <td>15000</td>\n            <td>21.53</td>\n            <td>15021.53</td>\n        </tr>\n        <tr>\n            <td>899-46-2035</td>\n            <td>Anne</td>\n            <td>Ringer</td>\n            <td>MC3021</td>\n            <td>The Gourmet Microwave</td>\n            <td>15000</td>\n            <td>7.18</td>\n            <td>15007.18</td>\n        </tr>\n        <tr>\n            <td>213-46-8915</td>\n            <td>Marjorie</td>\n            <td>Green</td>\n            <td>BU2075</td>\n            <td>You Can Combat Computer Stress!</td>\n            <td>10125</td>\n            <td>25.12</td>\n            <td>10150.12</td>\n        </tr>\n    </tbody>\n</table>"
     },
     "metadata": {},
     "execution_count": 13
    }
   ],
   "source": [
    "%%sql\n",
    "\n",
    "--Challenge 1 advanced sql  \n",
    "\n",
    "-- Aquí hay que tener en cuenta la información de la tabla de ventas ya que royalty es un porcentaje sobre las ventas\n",
    "\n",
    "-- Un titulo puede aparecer varias veces ya que se puede haber vendido en diferentes tiendas. \n",
    "\n",
    "select *, sales_royalties + advance as total_income from (select a.au_id as author_id, a.au_fname as FirstName, a.au_lname as LastName, tit.title_id, tit.title, tit.advance, sum(round(tit.price * s.qty * tit.royalty / 100 * titauth.royaltyper / 100, 2)) as sales_royalties\n",
    "from authors as a \n",
    "left join titleauthor as titauth on a.au_id = titauth.au_id\n",
    "left join titles as tit on titauth.title_id = tit.title_id\n",
    "left join sales as s on tit.title_id = s.title_id\n",
    "\n",
    "group by a.au_id, tit.title_id)\n",
    "order by total_income desc\n",
    "limit 3"
   ]
  },
  {
   "cell_type": "code",
   "execution_count": null,
   "metadata": {},
   "outputs": [],
   "source": []
  }
 ]
}