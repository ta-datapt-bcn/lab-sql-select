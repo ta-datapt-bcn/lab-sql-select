{
 "metadata": {
  "language_info": {
   "codemirror_mode": {
    "name": "ipython",
    "version": 3
   },
   "file_extension": ".py",
   "mimetype": "text/x-python",
   "name": "python",
   "nbconvert_exporter": "python",
   "pygments_lexer": "ipython3",
   "version": "3.8.5-final"
  },
  "orig_nbformat": 2,
  "kernelspec": {
   "name": "python385jvsc74a57bd0dca0ade3e726a953b501b15e8e990130d2b7799f14cfd9f4271676035ebe5511",
   "display_name": "Python 3.8.5 64-bit ('base': conda)"
  }
 },
 "nbformat": 4,
 "nbformat_minor": 2,
 "cells": [
  {
   "cell_type": "code",
   "execution_count": 1,
   "metadata": {},
   "outputs": [],
   "source": [
    "%load_ext sql"
   ]
  },
  {
   "cell_type": "code",
   "execution_count": 2,
   "metadata": {},
   "outputs": [
    {
     "output_type": "execute_result",
     "data": {
      "text/plain": [
       "'Connected: @publications.db'"
      ]
     },
     "metadata": {},
     "execution_count": 2
    }
   ],
   "source": [
    "%sql sqlite:///publications.db"
   ]
  },
  {
   "cell_type": "code",
   "execution_count": 3,
   "metadata": {},
   "outputs": [
    {
     "output_type": "stream",
     "name": "stdout",
     "text": [
      " * sqlite:///publications.db\nDone.\n"
     ]
    },
    {
     "output_type": "execute_result",
     "data": {
      "text/plain": [
       "[('table', 'authors', 'authors', 2, 'CREATE TABLE `authors` (\\n  `au_id` varchar(11) NOT NULL\\n,  `au_lname` varchar(40) NOT NULL\\n,  `au_fname` varchar(20) NOT NULL\\n,  `phone` char(12) ... (60 characters truncated) ... varchar(20) DEFAULT NULL\\n,  `state` char(2) DEFAULT NULL\\n,  `zip` char(5) DEFAULT NULL\\n,  `contract` integer NOT NULL\\n,  PRIMARY KEY (`au_id`)\\n)'),\n",
       " ('index', 'sqlite_autoindex_authors_1', 'authors', 3, None),\n",
       " ('table', 'discounts', 'discounts', 4, 'CREATE TABLE `discounts` (\\n  `discounttype` varchar(40) NOT NULL\\n,  `stor_id` char(4) DEFAULT NULL\\n,  `lowqty` integer DEFAULT NULL\\n,  `highqty`  ... (37 characters truncated) ... ecimal(4,2) NOT NULL\\n,  CONSTRAINT `discounts_ibfk_1` FOREIGN KEY (`stor_id`) REFERENCES `stores` (`stor_id`) ON DELETE CASCADE ON UPDATE CASCADE\\n)'),\n",
       " ('table', 'employee', 'employee', 5, 'CREATE TABLE `employee` (\\n  `emp_id` char(9) NOT NULL\\n,  `fname` varchar(20) NOT NULL\\n,  `minit` char(1) DEFAULT NULL\\n,  `lname` varchar(30) NOT  ... (262 characters truncated) ... E ON UPDATE CASCADE\\n,  CONSTRAINT `employee_ibfk_2` FOREIGN KEY (`pub_id`) REFERENCES `publishers` (`pub_id`) ON DELETE CASCADE ON UPDATE CASCADE\\n)'),\n",
       " ('index', 'sqlite_autoindex_employee_1', 'employee', 6, None)]"
      ],
      "text/html": "<table>\n    <thead>\n        <tr>\n            <th>type</th>\n            <th>name</th>\n            <th>tbl_name</th>\n            <th>rootpage</th>\n            <th>sql</th>\n        </tr>\n    </thead>\n    <tbody>\n        <tr>\n            <td>table</td>\n            <td>authors</td>\n            <td>authors</td>\n            <td>2</td>\n            <td>CREATE TABLE `authors` (<br>  `au_id` varchar(11) NOT NULL<br>,  `au_lname` varchar(40) NOT NULL<br>,  `au_fname` varchar(20) NOT NULL<br>,  `phone` char(12) NOT NULL<br>,  `address` varchar(40) DEFAULT NULL<br>,  `city` varchar(20) DEFAULT NULL<br>,  `state` char(2) DEFAULT NULL<br>,  `zip` char(5) DEFAULT NULL<br>,  `contract` integer NOT NULL<br>,  PRIMARY KEY (`au_id`)<br>)</td>\n        </tr>\n        <tr>\n            <td>index</td>\n            <td>sqlite_autoindex_authors_1</td>\n            <td>authors</td>\n            <td>3</td>\n            <td>None</td>\n        </tr>\n        <tr>\n            <td>table</td>\n            <td>discounts</td>\n            <td>discounts</td>\n            <td>4</td>\n            <td>CREATE TABLE `discounts` (<br>  `discounttype` varchar(40) NOT NULL<br>,  `stor_id` char(4) DEFAULT NULL<br>,  `lowqty` integer DEFAULT NULL<br>,  `highqty` integer DEFAULT NULL<br>,  `discount` decimal(4,2) NOT NULL<br>,  CONSTRAINT `discounts_ibfk_1` FOREIGN KEY (`stor_id`) REFERENCES `stores` (`stor_id`) ON DELETE CASCADE ON UPDATE CASCADE<br>)</td>\n        </tr>\n        <tr>\n            <td>table</td>\n            <td>employee</td>\n            <td>employee</td>\n            <td>5</td>\n            <td>CREATE TABLE `employee` (<br>  `emp_id` char(9) NOT NULL<br>,  `fname` varchar(20) NOT NULL<br>,  `minit` char(1) DEFAULT NULL<br>,  `lname` varchar(30) NOT NULL<br>,  `job_id` integer NOT NULL<br>,  `job_lvl` integer DEFAULT NULL<br>,  `pub_id` char(4) NOT NULL<br>,  `hire_date` datetime NOT NULL<br>,  PRIMARY KEY (`emp_id`)<br>,  CONSTRAINT `employee_ibfk_1` FOREIGN KEY (`job_id`) REFERENCES `jobs` (`job_id`) ON DELETE CASCADE ON UPDATE CASCADE<br>,  CONSTRAINT `employee_ibfk_2` FOREIGN KEY (`pub_id`) REFERENCES `publishers` (`pub_id`) ON DELETE CASCADE ON UPDATE CASCADE<br>)</td>\n        </tr>\n        <tr>\n            <td>index</td>\n            <td>sqlite_autoindex_employee_1</td>\n            <td>employee</td>\n            <td>6</td>\n            <td>None</td>\n        </tr>\n    </tbody>\n</table>"
     },
     "metadata": {},
     "execution_count": 3
    }
   ],
   "source": [
    "%%sql\n",
    "SELECT *\n",
    "FROM sqlite_master\n",
    "limit 5"
   ]
  },
  {
   "cell_type": "code",
   "execution_count": 4,
   "metadata": {},
   "outputs": [
    {
     "output_type": "stream",
     "name": "stdout",
     "text": [
      " * sqlite:///publications.db\nDone.\n"
     ]
    },
    {
     "output_type": "execute_result",
     "data": {
      "text/plain": [
       "[('authors',),\n",
       " ('discounts',),\n",
       " ('employee',),\n",
       " ('jobs',),\n",
       " ('pub_info',),\n",
       " ('publishers',),\n",
       " ('roysched',),\n",
       " ('sales',),\n",
       " ('stores',),\n",
       " ('titleauthor',),\n",
       " ('titles',)]"
      ],
      "text/html": "<table>\n    <thead>\n        <tr>\n            <th>tbl_name</th>\n        </tr>\n    </thead>\n    <tbody>\n        <tr>\n            <td>authors</td>\n        </tr>\n        <tr>\n            <td>discounts</td>\n        </tr>\n        <tr>\n            <td>employee</td>\n        </tr>\n        <tr>\n            <td>jobs</td>\n        </tr>\n        <tr>\n            <td>pub_info</td>\n        </tr>\n        <tr>\n            <td>publishers</td>\n        </tr>\n        <tr>\n            <td>roysched</td>\n        </tr>\n        <tr>\n            <td>sales</td>\n        </tr>\n        <tr>\n            <td>stores</td>\n        </tr>\n        <tr>\n            <td>titleauthor</td>\n        </tr>\n        <tr>\n            <td>titles</td>\n        </tr>\n    </tbody>\n</table>"
     },
     "metadata": {},
     "execution_count": 4
    }
   ],
   "source": [
    "%%sql\n",
    "SELECT tbl_name\n",
    "FROM sqlite_master\n",
    "WHERE type='table'"
   ]
  },
  {
   "source": [
    "# Challenge 1 - Who Have Published What At Where?\n",
    "\n",
    "In this challenge you will write a `SELECT` query that joins various tables to figure out what titles each author has published at which publishers. Your output should have at least the following columns:\n",
    "\n",
    "* `AUTHOR_ID` - the ID of the author\n",
    "* `LAST_NAME` - author last name\n",
    "* `FIRST_NAME` - author first name\n",
    "* `TITLE` - name of the published title\n",
    "* `PUBLISHER` - name of the publisher where the title was published"
   ],
   "cell_type": "markdown",
   "metadata": {}
  },
  {
   "cell_type": "code",
   "execution_count": 5,
   "metadata": {},
   "outputs": [
    {
     "output_type": "stream",
     "name": "stdout",
     "text": [
      " * sqlite:///publications.db\nDone.\n"
     ]
    },
    {
     "output_type": "execute_result",
     "data": {
      "text/plain": [
       "[]"
      ]
     },
     "metadata": {},
     "execution_count": 5
    }
   ],
   "source": [
    "%%sql\n",
    "CREATE TABLE table_1 as\n",
    "SELECT au.au_id as AUTHOR_ID,\n",
    "       au.au_lname as LAST_NAME,\n",
    "       au.au_fname as FIRST_NAME,\n",
    "       t.title as TITLE,\n",
    "       p.pub_name as PUBLISHER \n",
    "FROM authors au\n",
    "     inner join titleauthor tau on au.au_id = tau.au_id\n",
    "     inner join titles t on t.title_id = tau.title_id\n",
    "     inner join publishers p on p.pub_id = t.pub_id\n",
    "ORDER BY au.au_id"
   ]
  },
  {
   "cell_type": "code",
   "execution_count": 6,
   "metadata": {},
   "outputs": [
    {
     "output_type": "stream",
     "name": "stdout",
     "text": [
      " * sqlite:///publications.db\nDone.\n"
     ]
    },
    {
     "output_type": "execute_result",
     "data": {
      "text/plain": [
       "[('172-32-1176', 'White', 'Johnson', 'Prolonged Data Deprivation: Four Case Studies', 'New Moon Books'),\n",
       " ('213-46-8915', 'Green', 'Marjorie', \"The Busy Executive's Database Guide\", 'Algodata Infosystems'),\n",
       " ('213-46-8915', 'Green', 'Marjorie', 'You Can Combat Computer Stress!', 'New Moon Books'),\n",
       " ('238-95-7766', 'Carson', 'Cheryl', 'But Is It User Friendly?', 'Algodata Infosystems'),\n",
       " ('267-41-2394', \"O'Leary\", 'Michael', 'Cooking with Computers: Surreptitious Balance Sheets', 'Algodata Infosystems'),\n",
       " ('267-41-2394', \"O'Leary\", 'Michael', 'Sushi, Anyone?', 'Binnet & Hardley'),\n",
       " ('274-80-9391', 'Straight', 'Dean', 'Straight Talk About Computers', 'Algodata Infosystems'),\n",
       " ('409-56-7008', 'Bennet', 'Abraham', \"The Busy Executive's Database Guide\", 'Algodata Infosystems'),\n",
       " ('427-17-2319', 'Dull', 'Ann', 'Secrets of Silicon Valley', 'Algodata Infosystems'),\n",
       " ('472-27-2349', 'Gringlesby', 'Burt', 'Sushi, Anyone?', 'Binnet & Hardley')]"
      ],
      "text/html": "<table>\n    <thead>\n        <tr>\n            <th>AUTHOR_ID</th>\n            <th>LAST_NAME</th>\n            <th>FIRST_NAME</th>\n            <th>TITLE</th>\n            <th>PUBLISHER</th>\n        </tr>\n    </thead>\n    <tbody>\n        <tr>\n            <td>172-32-1176</td>\n            <td>White</td>\n            <td>Johnson</td>\n            <td>Prolonged Data Deprivation: Four Case Studies</td>\n            <td>New Moon Books</td>\n        </tr>\n        <tr>\n            <td>213-46-8915</td>\n            <td>Green</td>\n            <td>Marjorie</td>\n            <td>The Busy Executive&#x27;s Database Guide</td>\n            <td>Algodata Infosystems</td>\n        </tr>\n        <tr>\n            <td>213-46-8915</td>\n            <td>Green</td>\n            <td>Marjorie</td>\n            <td>You Can Combat Computer Stress!</td>\n            <td>New Moon Books</td>\n        </tr>\n        <tr>\n            <td>238-95-7766</td>\n            <td>Carson</td>\n            <td>Cheryl</td>\n            <td>But Is It User Friendly?</td>\n            <td>Algodata Infosystems</td>\n        </tr>\n        <tr>\n            <td>267-41-2394</td>\n            <td>O&#x27;Leary</td>\n            <td>Michael</td>\n            <td>Cooking with Computers: Surreptitious Balance Sheets</td>\n            <td>Algodata Infosystems</td>\n        </tr>\n        <tr>\n            <td>267-41-2394</td>\n            <td>O&#x27;Leary</td>\n            <td>Michael</td>\n            <td>Sushi, Anyone?</td>\n            <td>Binnet &amp; Hardley</td>\n        </tr>\n        <tr>\n            <td>274-80-9391</td>\n            <td>Straight</td>\n            <td>Dean</td>\n            <td>Straight Talk About Computers</td>\n            <td>Algodata Infosystems</td>\n        </tr>\n        <tr>\n            <td>409-56-7008</td>\n            <td>Bennet</td>\n            <td>Abraham</td>\n            <td>The Busy Executive&#x27;s Database Guide</td>\n            <td>Algodata Infosystems</td>\n        </tr>\n        <tr>\n            <td>427-17-2319</td>\n            <td>Dull</td>\n            <td>Ann</td>\n            <td>Secrets of Silicon Valley</td>\n            <td>Algodata Infosystems</td>\n        </tr>\n        <tr>\n            <td>472-27-2349</td>\n            <td>Gringlesby</td>\n            <td>Burt</td>\n            <td>Sushi, Anyone?</td>\n            <td>Binnet &amp; Hardley</td>\n        </tr>\n    </tbody>\n</table>"
     },
     "metadata": {},
     "execution_count": 6
    }
   ],
   "source": [
    "%%sql\n",
    "SELECT *\n",
    "FROM table_1\n",
    "limit 10"
   ]
  },
  {
   "source": [
    "If your query is correct, the total rows in your output should be the same as the total number of records in Table `titleauthor`."
   ],
   "cell_type": "markdown",
   "metadata": {}
  },
  {
   "cell_type": "code",
   "execution_count": 7,
   "metadata": {},
   "outputs": [
    {
     "output_type": "stream",
     "name": "stdout",
     "text": [
      " * sqlite:///publications.db\nDone.\n"
     ]
    },
    {
     "output_type": "execute_result",
     "data": {
      "text/plain": [
       "[(25,)]"
      ],
      "text/html": "<table>\n    <thead>\n        <tr>\n            <th>count(*)</th>\n        </tr>\n    </thead>\n    <tbody>\n        <tr>\n            <td>25</td>\n        </tr>\n    </tbody>\n</table>"
     },
     "metadata": {},
     "execution_count": 7
    }
   ],
   "source": [
    "%%sql\n",
    "SELECT count(*)\n",
    "FROM titleauthor"
   ]
  },
  {
   "cell_type": "code",
   "execution_count": 8,
   "metadata": {},
   "outputs": [
    {
     "output_type": "stream",
     "name": "stdout",
     "text": [
      " * sqlite:///publications.db\nDone.\n"
     ]
    },
    {
     "output_type": "execute_result",
     "data": {
      "text/plain": [
       "[(25,)]"
      ],
      "text/html": "<table>\n    <thead>\n        <tr>\n            <th>count(*)</th>\n        </tr>\n    </thead>\n    <tbody>\n        <tr>\n            <td>25</td>\n        </tr>\n    </tbody>\n</table>"
     },
     "metadata": {},
     "execution_count": 8
    }
   ],
   "source": [
    "%%sql\n",
    "SELECT count(*)\n",
    "FROM table_1"
   ]
  },
  {
   "source": [
    "# Challenge 2 - Who Have Published How Many At Where?\n",
    "Elevating from your solution in Challenge 1, query how many titles each author has published at each publisher."
   ],
   "cell_type": "markdown",
   "metadata": {}
  },
  {
   "cell_type": "code",
   "execution_count": 9,
   "metadata": {},
   "outputs": [
    {
     "output_type": "stream",
     "name": "stdout",
     "text": [
      " * sqlite:///publications.db\nDone.\n"
     ]
    },
    {
     "output_type": "execute_result",
     "data": {
      "text/plain": [
       "[]"
      ]
     },
     "metadata": {},
     "execution_count": 9
    }
   ],
   "source": [
    "%%sql\n",
    "CREATE TABLE table_2 as\n",
    "SELECT AUTHOR_ID,\n",
    "       LAST_NAME,\n",
    "       FIRST_NAME,\n",
    "       PUBLISHER,\n",
    "       count(TITLE) as TITLE_COUNT\n",
    "FROM table_1\n",
    "GROUP BY AUTHOR_ID"
   ]
  },
  {
   "cell_type": "code",
   "execution_count": 10,
   "metadata": {},
   "outputs": [
    {
     "output_type": "stream",
     "name": "stdout",
     "text": [
      " * sqlite:///publications.db\nDone.\n"
     ]
    },
    {
     "output_type": "execute_result",
     "data": {
      "text/plain": [
       "[('172-32-1176', 'White', 'Johnson', 'New Moon Books', 1),\n",
       " ('213-46-8915', 'Green', 'Marjorie', 'Algodata Infosystems', 2),\n",
       " ('238-95-7766', 'Carson', 'Cheryl', 'Algodata Infosystems', 1),\n",
       " ('267-41-2394', \"O'Leary\", 'Michael', 'Algodata Infosystems', 2),\n",
       " ('274-80-9391', 'Straight', 'Dean', 'Algodata Infosystems', 1),\n",
       " ('409-56-7008', 'Bennet', 'Abraham', 'Algodata Infosystems', 1),\n",
       " ('427-17-2319', 'Dull', 'Ann', 'Algodata Infosystems', 1),\n",
       " ('472-27-2349', 'Gringlesby', 'Burt', 'Binnet & Hardley', 1),\n",
       " ('486-29-1786', 'Locksley', 'Charlene', 'Algodata Infosystems', 2),\n",
       " ('648-92-1872', 'Blotchet-Halls', 'Reginald', 'Binnet & Hardley', 1),\n",
       " ('672-71-3249', 'Yokomoto', 'Akiko', 'Binnet & Hardley', 1),\n",
       " ('712-45-1867', 'del Castillo', 'Innes', 'Binnet & Hardley', 1),\n",
       " ('722-51-5454', 'DeFrance', 'Michel', 'Binnet & Hardley', 1),\n",
       " ('724-80-9391', 'MacFeather', 'Stearns', 'Algodata Infosystems', 2),\n",
       " ('756-30-7391', 'Karsen', 'Livia', 'Binnet & Hardley', 1),\n",
       " ('807-91-6654', 'Panteley', 'Sylvia', 'Binnet & Hardley', 1),\n",
       " ('846-92-7186', 'Hunter', 'Sheryl', 'Algodata Infosystems', 1),\n",
       " ('899-46-2035', 'Ringer', 'Anne', 'Binnet & Hardley', 2),\n",
       " ('998-72-3567', 'Ringer', 'Albert', 'New Moon Books', 2)]"
      ],
      "text/html": "<table>\n    <thead>\n        <tr>\n            <th>AUTHOR_ID</th>\n            <th>LAST_NAME</th>\n            <th>FIRST_NAME</th>\n            <th>PUBLISHER</th>\n            <th>TITLE_COUNT</th>\n        </tr>\n    </thead>\n    <tbody>\n        <tr>\n            <td>172-32-1176</td>\n            <td>White</td>\n            <td>Johnson</td>\n            <td>New Moon Books</td>\n            <td>1</td>\n        </tr>\n        <tr>\n            <td>213-46-8915</td>\n            <td>Green</td>\n            <td>Marjorie</td>\n            <td>Algodata Infosystems</td>\n            <td>2</td>\n        </tr>\n        <tr>\n            <td>238-95-7766</td>\n            <td>Carson</td>\n            <td>Cheryl</td>\n            <td>Algodata Infosystems</td>\n            <td>1</td>\n        </tr>\n        <tr>\n            <td>267-41-2394</td>\n            <td>O&#x27;Leary</td>\n            <td>Michael</td>\n            <td>Algodata Infosystems</td>\n            <td>2</td>\n        </tr>\n        <tr>\n            <td>274-80-9391</td>\n            <td>Straight</td>\n            <td>Dean</td>\n            <td>Algodata Infosystems</td>\n            <td>1</td>\n        </tr>\n        <tr>\n            <td>409-56-7008</td>\n            <td>Bennet</td>\n            <td>Abraham</td>\n            <td>Algodata Infosystems</td>\n            <td>1</td>\n        </tr>\n        <tr>\n            <td>427-17-2319</td>\n            <td>Dull</td>\n            <td>Ann</td>\n            <td>Algodata Infosystems</td>\n            <td>1</td>\n        </tr>\n        <tr>\n            <td>472-27-2349</td>\n            <td>Gringlesby</td>\n            <td>Burt</td>\n            <td>Binnet &amp; Hardley</td>\n            <td>1</td>\n        </tr>\n        <tr>\n            <td>486-29-1786</td>\n            <td>Locksley</td>\n            <td>Charlene</td>\n            <td>Algodata Infosystems</td>\n            <td>2</td>\n        </tr>\n        <tr>\n            <td>648-92-1872</td>\n            <td>Blotchet-Halls</td>\n            <td>Reginald</td>\n            <td>Binnet &amp; Hardley</td>\n            <td>1</td>\n        </tr>\n        <tr>\n            <td>672-71-3249</td>\n            <td>Yokomoto</td>\n            <td>Akiko</td>\n            <td>Binnet &amp; Hardley</td>\n            <td>1</td>\n        </tr>\n        <tr>\n            <td>712-45-1867</td>\n            <td>del Castillo</td>\n            <td>Innes</td>\n            <td>Binnet &amp; Hardley</td>\n            <td>1</td>\n        </tr>\n        <tr>\n            <td>722-51-5454</td>\n            <td>DeFrance</td>\n            <td>Michel</td>\n            <td>Binnet &amp; Hardley</td>\n            <td>1</td>\n        </tr>\n        <tr>\n            <td>724-80-9391</td>\n            <td>MacFeather</td>\n            <td>Stearns</td>\n            <td>Algodata Infosystems</td>\n            <td>2</td>\n        </tr>\n        <tr>\n            <td>756-30-7391</td>\n            <td>Karsen</td>\n            <td>Livia</td>\n            <td>Binnet &amp; Hardley</td>\n            <td>1</td>\n        </tr>\n        <tr>\n            <td>807-91-6654</td>\n            <td>Panteley</td>\n            <td>Sylvia</td>\n            <td>Binnet &amp; Hardley</td>\n            <td>1</td>\n        </tr>\n        <tr>\n            <td>846-92-7186</td>\n            <td>Hunter</td>\n            <td>Sheryl</td>\n            <td>Algodata Infosystems</td>\n            <td>1</td>\n        </tr>\n        <tr>\n            <td>899-46-2035</td>\n            <td>Ringer</td>\n            <td>Anne</td>\n            <td>Binnet &amp; Hardley</td>\n            <td>2</td>\n        </tr>\n        <tr>\n            <td>998-72-3567</td>\n            <td>Ringer</td>\n            <td>Albert</td>\n            <td>New Moon Books</td>\n            <td>2</td>\n        </tr>\n    </tbody>\n</table>"
     },
     "metadata": {},
     "execution_count": 10
    }
   ],
   "source": [
    "%%sql\n",
    "SELECT *\n",
    "FROM table_2"
   ]
  },
  {
   "source": [
    "To check if your output is correct, sum up the `TITLE COUNT` column. The sum number should be the same as the total number of records in Table `titleauthor`."
   ],
   "cell_type": "markdown",
   "metadata": {}
  },
  {
   "cell_type": "code",
   "execution_count": 11,
   "metadata": {},
   "outputs": [
    {
     "output_type": "stream",
     "name": "stdout",
     "text": [
      " * sqlite:///publications.db\nDone.\n"
     ]
    },
    {
     "output_type": "execute_result",
     "data": {
      "text/plain": [
       "[(25,)]"
      ],
      "text/html": "<table>\n    <thead>\n        <tr>\n            <th>count(*)</th>\n        </tr>\n    </thead>\n    <tbody>\n        <tr>\n            <td>25</td>\n        </tr>\n    </tbody>\n</table>"
     },
     "metadata": {},
     "execution_count": 11
    }
   ],
   "source": [
    "%%sql\n",
    "SELECT count(*)\n",
    "FROM titleauthor"
   ]
  },
  {
   "cell_type": "code",
   "execution_count": 12,
   "metadata": {},
   "outputs": [
    {
     "output_type": "stream",
     "name": "stdout",
     "text": [
      " * sqlite:///publications.db\nDone.\n"
     ]
    },
    {
     "output_type": "execute_result",
     "data": {
      "text/plain": [
       "[(25,)]"
      ],
      "text/html": "<table>\n    <thead>\n        <tr>\n            <th>sum(TITLE_COUNT)</th>\n        </tr>\n    </thead>\n    <tbody>\n        <tr>\n            <td>25</td>\n        </tr>\n    </tbody>\n</table>"
     },
     "metadata": {},
     "execution_count": 12
    }
   ],
   "source": [
    "%%sql\n",
    "SELECT sum(TITLE_COUNT)\n",
    "FROM table_2"
   ]
  },
  {
   "source": [
    "# Challenge 3 - Best Selling Authors\n",
    "\n",
    "Who are the top 3 authors who have sold the highest number of titles? Write a query to find out.\n",
    "\n",
    "Requirements:\n",
    "\n",
    "* Your output should have the following columns:\n",
    "\t* `AUTHOR_ID` - the ID of the author\n",
    "\t* `LAST_NAME` - author last name\n",
    "\t* `FIRST_NAME` - author first name\n",
    "\t* `TOTAL` - total number of titles sold from this author\n",
    "* Your output should be ordered based on `TOTAL` from high to low.\n",
    "* Only output the top 3 best selling authors.\n",
    "\n",
    "*Hint: In order to calculate the total of profits of an author, you need to use the [SUM function](https://cloud.google.com/bigquery/docs/reference/standard-sql/aggregate_functions#sum). Refer to the reference and learn how to use it.*"
   ],
   "cell_type": "markdown",
   "metadata": {}
  },
  {
   "cell_type": "code",
   "execution_count": 13,
   "metadata": {},
   "outputs": [
    {
     "output_type": "stream",
     "name": "stdout",
     "text": [
      " * sqlite:///publications.db\nDone.\n"
     ]
    },
    {
     "output_type": "execute_result",
     "data": {
      "text/plain": [
       "[]"
      ]
     },
     "metadata": {},
     "execution_count": 13
    }
   ],
   "source": [
    "%%sql\n",
    "CREATE TABLE table_3 as\n",
    "SELECT au.au_id as AUTHOR_ID,\n",
    "       au.au_lname as LAST_NAME,\n",
    "       au.au_fname as FIRST_NAME,\n",
    "       sum(s.qty) as TOTAL\n",
    "FROM authors au\n",
    "     inner join titleauthor tau on au.au_id = tau.au_id\n",
    "     inner join titles t on t.title_id = tau.title_id\n",
    "     inner join sales s on s.title_id = t.title_id\n",
    "GROUP BY AUTHOR_ID\n",
    "ORDER BY TOTAL desc"
   ]
  },
  {
   "cell_type": "code",
   "execution_count": 14,
   "metadata": {},
   "outputs": [
    {
     "output_type": "stream",
     "name": "stdout",
     "text": [
      " * sqlite:///publications.db\nDone.\n"
     ]
    },
    {
     "output_type": "execute_result",
     "data": {
      "text/plain": [
       "[('899-46-2035', 'Ringer', 'Anne', 148),\n",
       " ('998-72-3567', 'Ringer', 'Albert', 133),\n",
       " ('213-46-8915', 'Green', 'Marjorie', 50)]"
      ],
      "text/html": "<table>\n    <thead>\n        <tr>\n            <th>AUTHOR_ID</th>\n            <th>LAST_NAME</th>\n            <th>FIRST_NAME</th>\n            <th>TOTAL</th>\n        </tr>\n    </thead>\n    <tbody>\n        <tr>\n            <td>899-46-2035</td>\n            <td>Ringer</td>\n            <td>Anne</td>\n            <td>148</td>\n        </tr>\n        <tr>\n            <td>998-72-3567</td>\n            <td>Ringer</td>\n            <td>Albert</td>\n            <td>133</td>\n        </tr>\n        <tr>\n            <td>213-46-8915</td>\n            <td>Green</td>\n            <td>Marjorie</td>\n            <td>50</td>\n        </tr>\n    </tbody>\n</table>"
     },
     "metadata": {},
     "execution_count": 14
    }
   ],
   "source": [
    "%%sql\n",
    "SELECT *\n",
    "FROM table_3\n",
    "limit 3"
   ]
  },
  {
   "source": [
    "# Challenge 4 - Best Selling Authors Ranking\n",
    "\n",
    "Now modify your solution in Challenge 3 so that the output will display all 23 authors instead of the top 3. Note that the authors who have sold 0 titles should also appear in your output (ideally display `0` instead of `NULL` as the `TOTAL`). Also order your results based on `TOTAL` from high to low."
   ],
   "cell_type": "markdown",
   "metadata": {}
  },
  {
   "cell_type": "code",
   "execution_count": 15,
   "metadata": {},
   "outputs": [
    {
     "output_type": "stream",
     "name": "stdout",
     "text": [
      " * sqlite:///publications.db\n",
      "Done.\n"
     ]
    },
    {
     "output_type": "execute_result",
     "data": {
      "text/plain": [
       "[]"
      ]
     },
     "metadata": {},
     "execution_count": 15
    }
   ],
   "source": [
    "%%sql\n",
    "CREATE TABLE table_4 as\n",
    "SELECT au.au_id as AUTHOR_ID,\n",
    "       au.au_lname as LAST_NAME,\n",
    "       au.au_fname as FIRST_NAME,\n",
    "       coalesce(sum(s.qty), 0) as TOTAL\n",
    "FROM authors au\n",
    "     left join titleauthor tau on au.au_id = tau.au_id\n",
    "     left join titles t on t.title_id = tau.title_id\n",
    "     left join sales s on s.title_id = t.title_id\n",
    "GROUP BY AUTHOR_ID\n",
    "ORDER BY TOTAL desc"
   ]
  },
  {
   "cell_type": "code",
   "execution_count": 16,
   "metadata": {},
   "outputs": [
    {
     "output_type": "stream",
     "name": "stdout",
     "text": [
      " * sqlite:///publications.db\nDone.\n"
     ]
    },
    {
     "output_type": "execute_result",
     "data": {
      "text/plain": [
       "[('899-46-2035', 'Ringer', 'Anne', 148),\n",
       " ('998-72-3567', 'Ringer', 'Albert', 133),\n",
       " ('213-46-8915', 'Green', 'Marjorie', 50),\n",
       " ('427-17-2319', 'Dull', 'Ann', 50),\n",
       " ('846-92-7186', 'Hunter', 'Sheryl', 50),\n",
       " ('267-41-2394', \"O'Leary\", 'Michael', 45),\n",
       " ('724-80-9391', 'MacFeather', 'Stearns', 45),\n",
       " ('722-51-5454', 'DeFrance', 'Michel', 40),\n",
       " ('807-91-6654', 'Panteley', 'Sylvia', 40),\n",
       " ('238-95-7766', 'Carson', 'Cheryl', 30),\n",
       " ('486-29-1786', 'Locksley', 'Charlene', 25),\n",
       " ('472-27-2349', 'Gringlesby', 'Burt', 20),\n",
       " ('648-92-1872', 'Blotchet-Halls', 'Reginald', 20),\n",
       " ('672-71-3249', 'Yokomoto', 'Akiko', 20),\n",
       " ('756-30-7391', 'Karsen', 'Livia', 20),\n",
       " ('172-32-1176', 'White', 'Johnson', 15),\n",
       " ('274-80-9391', 'Straight', 'Dean', 15),\n",
       " ('409-56-7008', 'Bennet', 'Abraham', 15),\n",
       " ('712-45-1867', 'del Castillo', 'Innes', 10),\n",
       " ('341-22-1782', 'Smith', 'Meander', 0),\n",
       " ('527-72-3246', 'Greene', 'Morningstar', 0),\n",
       " ('724-08-9931', 'Stringer', 'Dirk', 0),\n",
       " ('893-72-1158', 'McBadden', 'Heather', 0)]"
      ],
      "text/html": "<table>\n    <thead>\n        <tr>\n            <th>AUTHOR_ID</th>\n            <th>LAST_NAME</th>\n            <th>FIRST_NAME</th>\n            <th>TOTAL</th>\n        </tr>\n    </thead>\n    <tbody>\n        <tr>\n            <td>899-46-2035</td>\n            <td>Ringer</td>\n            <td>Anne</td>\n            <td>148</td>\n        </tr>\n        <tr>\n            <td>998-72-3567</td>\n            <td>Ringer</td>\n            <td>Albert</td>\n            <td>133</td>\n        </tr>\n        <tr>\n            <td>213-46-8915</td>\n            <td>Green</td>\n            <td>Marjorie</td>\n            <td>50</td>\n        </tr>\n        <tr>\n            <td>427-17-2319</td>\n            <td>Dull</td>\n            <td>Ann</td>\n            <td>50</td>\n        </tr>\n        <tr>\n            <td>846-92-7186</td>\n            <td>Hunter</td>\n            <td>Sheryl</td>\n            <td>50</td>\n        </tr>\n        <tr>\n            <td>267-41-2394</td>\n            <td>O&#x27;Leary</td>\n            <td>Michael</td>\n            <td>45</td>\n        </tr>\n        <tr>\n            <td>724-80-9391</td>\n            <td>MacFeather</td>\n            <td>Stearns</td>\n            <td>45</td>\n        </tr>\n        <tr>\n            <td>722-51-5454</td>\n            <td>DeFrance</td>\n            <td>Michel</td>\n            <td>40</td>\n        </tr>\n        <tr>\n            <td>807-91-6654</td>\n            <td>Panteley</td>\n            <td>Sylvia</td>\n            <td>40</td>\n        </tr>\n        <tr>\n            <td>238-95-7766</td>\n            <td>Carson</td>\n            <td>Cheryl</td>\n            <td>30</td>\n        </tr>\n        <tr>\n            <td>486-29-1786</td>\n            <td>Locksley</td>\n            <td>Charlene</td>\n            <td>25</td>\n        </tr>\n        <tr>\n            <td>472-27-2349</td>\n            <td>Gringlesby</td>\n            <td>Burt</td>\n            <td>20</td>\n        </tr>\n        <tr>\n            <td>648-92-1872</td>\n            <td>Blotchet-Halls</td>\n            <td>Reginald</td>\n            <td>20</td>\n        </tr>\n        <tr>\n            <td>672-71-3249</td>\n            <td>Yokomoto</td>\n            <td>Akiko</td>\n            <td>20</td>\n        </tr>\n        <tr>\n            <td>756-30-7391</td>\n            <td>Karsen</td>\n            <td>Livia</td>\n            <td>20</td>\n        </tr>\n        <tr>\n            <td>172-32-1176</td>\n            <td>White</td>\n            <td>Johnson</td>\n            <td>15</td>\n        </tr>\n        <tr>\n            <td>274-80-9391</td>\n            <td>Straight</td>\n            <td>Dean</td>\n            <td>15</td>\n        </tr>\n        <tr>\n            <td>409-56-7008</td>\n            <td>Bennet</td>\n            <td>Abraham</td>\n            <td>15</td>\n        </tr>\n        <tr>\n            <td>712-45-1867</td>\n            <td>del Castillo</td>\n            <td>Innes</td>\n            <td>10</td>\n        </tr>\n        <tr>\n            <td>341-22-1782</td>\n            <td>Smith</td>\n            <td>Meander</td>\n            <td>0</td>\n        </tr>\n        <tr>\n            <td>527-72-3246</td>\n            <td>Greene</td>\n            <td>Morningstar</td>\n            <td>0</td>\n        </tr>\n        <tr>\n            <td>724-08-9931</td>\n            <td>Stringer</td>\n            <td>Dirk</td>\n            <td>0</td>\n        </tr>\n        <tr>\n            <td>893-72-1158</td>\n            <td>McBadden</td>\n            <td>Heather</td>\n            <td>0</td>\n        </tr>\n    </tbody>\n</table>"
     },
     "metadata": {},
     "execution_count": 16
    }
   ],
   "source": [
    "%%sql\n",
    "SELECT *\n",
    "FROM table_4"
   ]
  },
  {
   "source": [
    "# Bonus Challenge - Most Profiting Authors\n",
    "\n",
    "Authors earn money from their book sales in two ways: advance and royalties. An advance is the money that the publisher pays the author before the book comes out. The royalties the author will receive is typically a percentage of the entire book sales. The total profit an author receives by publishing a book is the sum of the advance and the royalties.\n",
    "\n",
    "Given the information above, who are the 3 most profiting authors and how much royalties each of them have received? Write a query to find out.\n",
    "\n",
    "Requirements:\n",
    "\n",
    "* Your output should have the following columns:\n",
    "\t* `AUTHOR_ID` - the ID of the author\n",
    "\t* `LAST_NAME` - author last name\n",
    "\t* `FIRST_NAME` - author first name\n",
    "\t* `PROFIT` - total profit the author has received combining the advance and royalties\n",
    "* Your output should be ordered from higher `PROFIT` values to lower values.\n",
    "* Only output the top 3 most profiting authors.\n",
    "\n",
    "*Hints:* \n",
    "\n",
    "* If a title has multiple authors, how they split the royalties can be found in the `royaltyper` column of the `titleauthor` table.\n",
    "* We assume the coauthors will split the advance in the same way as the royalties."
   ],
   "cell_type": "markdown",
   "metadata": {}
  },
  {
   "cell_type": "code",
   "execution_count": 17,
   "metadata": {},
   "outputs": [
    {
     "output_type": "stream",
     "name": "stdout",
     "text": [
      " * sqlite:///publications.db\nDone.\n"
     ]
    },
    {
     "output_type": "execute_result",
     "data": {
      "text/plain": [
       "[]"
      ]
     },
     "metadata": {},
     "execution_count": 17
    }
   ],
   "source": [
    "%%sql\n",
    "CREATE TABLE table_bonus as\n",
    "SELECT au.au_id as AUTHOR_ID,\n",
    "       au.au_lname as LAST_NAME,\n",
    "       au.au_fname as FIRST_NAME,\n",
    "       coalesce((t.advance + round(coalesce(t.price * s.qty * t.royalty / 100 * tau.royaltyper / 100, 0), 2)),0) as PROFIT\n",
    "FROM authors au\n",
    "     left join titleauthor tau on au.au_id = tau.au_id\n",
    "     left join titles t on t.title_id = tau.title_id\n",
    "     left join sales s on s.title_id = t.title_id\n",
    "GROUP BY AUTHOR_ID\n",
    "ORDER BY PROFIT desc"
   ]
  },
  {
   "cell_type": "code",
   "execution_count": 18,
   "metadata": {},
   "outputs": [
    {
     "output_type": "stream",
     "name": "stdout",
     "text": [
      " * sqlite:///publications.db\nDone.\n"
     ]
    },
    {
     "output_type": "execute_result",
     "data": {
      "text/plain": [
       "[('722-51-5454', 'DeFrance', 'Michel', 15013.46),\n",
       " ('899-46-2035', 'Ringer', 'Anne', 15004.49),\n",
       " ('427-17-2319', 'Dull', 'Ann', 8050.0)]"
      ],
      "text/html": "<table>\n    <thead>\n        <tr>\n            <th>AUTHOR_ID</th>\n            <th>LAST_NAME</th>\n            <th>FIRST_NAME</th>\n            <th>PROFIT</th>\n        </tr>\n    </thead>\n    <tbody>\n        <tr>\n            <td>722-51-5454</td>\n            <td>DeFrance</td>\n            <td>Michel</td>\n            <td>15013.46</td>\n        </tr>\n        <tr>\n            <td>899-46-2035</td>\n            <td>Ringer</td>\n            <td>Anne</td>\n            <td>15004.49</td>\n        </tr>\n        <tr>\n            <td>427-17-2319</td>\n            <td>Dull</td>\n            <td>Ann</td>\n            <td>8050.0</td>\n        </tr>\n    </tbody>\n</table>"
     },
     "metadata": {},
     "execution_count": 18
    }
   ],
   "source": [
    "%%sql\n",
    "SELECT *\n",
    "FROM table_bonus\n",
    "limit 3"
   ]
  }
 ]
}