{
 "cells": [
  {
   "cell_type": "markdown",
   "metadata": {},
   "source": [
    "![Ironhack logo](https://i.imgur.com/1QgrNNw.png)\n",
    "\n",
    "# Lab | SQL Select\n",
    "\n",
    "## Introduction\n",
    "\n",
    "In this lab you will practice how to use the `SELECT` statement which will be extremely useful in your future work as a data analyst/scientist/engineer. **You will use the `publications` database.** \n",
    "\n",
    "You will create a `solutions.ipynb` file in the `your-code` directory to record your solutions to all challenges.\n",
    "\n",
    "## Challenge 1 - Who Have Published What At Where?\n",
    "\n",
    "In this challenge you will write a `SELECT` query that joins various tables to figure out what titles each author has published at which publishers. Your output should have at least the following columns:\n",
    "\n",
    "* `AUTHOR_ID` - the ID of the author\n",
    "* `LAST_NAME` - author last name\n",
    "* `FIRST_NAME` - author first name\n",
    "* `TITLE` - name of the published title\n",
    "* `PUBLISHER` - name of the publisher where the title was published\n",
    "\n",
    "Your output will look something like below:\n",
    "\n",
    "![Challenge 1 output](challenge-1.png)\n",
    "\n",
    "*Note: the screenshot above is not the complete output.*\n",
    "\n",
    "If your query is correct, the total rows in your output should be the same as the total number of records in Table `titleauthor`.\n",
    "\n",
    "## Challenge 2 - Who Have Published How Many At Where?\n",
    "\n",
    "Elevating from your solution in Challenge 1, query how many titles each author has published at each publisher. Your output should look something like below:\n",
    "\n",
    "![Challenge 2 output](challenge-2.png)\n",
    "\n",
    "*Note: the screenshot above is not the complete output.*\n",
    "\n",
    "To check if your output is correct, sum up the `TITLE COUNT` column. The sum number should be the same as the total number of records in Table `titleauthor`.\n",
    "\n",
    "*Hint: In order to count the number of titles published by an author, you need to use [ COUNT](https://cloud.google.com/bigquery/docs/reference/standard-sql/aggregate_functions#count). Also check out [Group By](https://cloud.google.com/bigquery/docs/reference/standard-sql/query-syntax#group-by-clause) because you will count the rows of different groups of data. Refer to the references and learn by yourself. These features will be formally discussed in the Temp Tables and Subqueries lesson.*\n",
    "\n",
    "## Challenge 3 - Best Selling Authors\n",
    "\n",
    "Who are the top 3 authors who have sold the highest number of titles? Write a query to find out.\n",
    "\n",
    "Requirements:\n",
    "\n",
    "* Your output should have the following columns:\n",
    "\t* `AUTHOR_ID` - the ID of the author\n",
    "\t* `LAST_NAME` - author last name\n",
    "\t* `FIRST_NAME` - author first name\n",
    "\t* `TOTAL` - total number of titles sold from this author\n",
    "* Your output should be ordered based on `TOTAL` from high to low.\n",
    "* Only output the top 3 best selling authors.\n",
    "\n",
    "*Hint: In order to calculate the total of profits of an author, you need to use the [SUM function](https://cloud.google.com/bigquery/docs/reference/standard-sql/aggregate_functions#sum). Refer to the reference and learn how to use it.*\n",
    "\n",
    "## Challenge 4 - Best Selling Authors Ranking\n",
    "\n",
    "Now modify your solution in Challenge 3 so that the output will display all 23 authors instead of the top 3. Note that the authors who have sold 0 titles should also appear in your output (ideally display `0` instead of `NULL` as the `TOTAL`). Also order your results based on `TOTAL` from high to low.\n",
    "\n",
    "## Bonus Challenge - Most Profiting Authors\n",
    "\n",
    "Authors earn money from their book sales in two ways: advance and royalties. An advance is the money that the publisher pays the author before the book comes out. The royalties the author will receive is typically a percentage of the entire book sales. The total profit an author receives by publishing a book is the sum of the advance and the royalties.\n",
    "\n",
    "Given the information above, who are the 3 most profiting authors and how much royalties each of them have received? Write a query to find out.\n",
    "\n",
    "Requirements:\n",
    "\n",
    "* Your output should have the following columns:\n",
    "\t* `AUTHOR_ID` - the ID of the author\n",
    "\t* `LAST_NAME` - author last name\n",
    "\t* `FIRST_NAME` - author first name\n",
    "\t* `PROFIT` - total profit the author has received combining the advance and royalties\n",
    "* Your output should be ordered from higher `PROFIT` values to lower values.\n",
    "* Only output the top 3 most profiting authors.\n",
    "\n",
    "*Hints:* \n",
    "\n",
    "* If a title has multiple authors, how they split the royalties can be found in the `royaltyper` column of the `titleauthor` table.\n",
    "* We assume the coauthors will split the advance in the same way as the royalties.\n",
    "\n",
    "## Deliverables\n",
    "\n",
    "* `solution.ipynb` that contains all your queries.\n",
    "\n"
   ]
  },
  {
   "cell_type": "code",
   "execution_count": null,
   "metadata": {},
   "outputs": [],
   "source": []
  }
 ],
 "metadata": {
  "kernelspec": {
   "display_name": "Python 3",
   "language": "python",
   "name": "python3"
  },
  "language_info": {
   "codemirror_mode": {
    "name": "ipython",
    "version": 3
   },
   "file_extension": ".py",
   "mimetype": "text/x-python",
   "name": "python",
   "nbconvert_exporter": "python",
   "pygments_lexer": "ipython3",
   "version": "3.7.4"
  },
  "toc": {
   "base_numbering": 1,
   "nav_menu": {},
   "number_sections": true,
   "sideBar": true,
   "skip_h1_title": false,
   "title_cell": "Table of Contents",
   "title_sidebar": "Contents",
   "toc_cell": false,
   "toc_position": {},
   "toc_section_display": true,
   "toc_window_display": false
  },
  "varInspector": {
   "cols": {
    "lenName": 16,
    "lenType": 16,
    "lenVar": 40
   },
   "kernels_config": {
    "python": {
     "delete_cmd_postfix": "",
     "delete_cmd_prefix": "del ",
     "library": "var_list.py",
     "varRefreshCmd": "print(var_dic_list())"
    },
    "r": {
     "delete_cmd_postfix": ") ",
     "delete_cmd_prefix": "rm(",
     "library": "var_list.r",
     "varRefreshCmd": "cat(var_dic_list()) "
    }
   },
   "types_to_exclude": [
    "module",
    "function",
    "builtin_function_or_method",
    "instance",
    "_Feature"
   ],
   "window_display": false
  }
 },
 "nbformat": 4,
 "nbformat_minor": 2
}
