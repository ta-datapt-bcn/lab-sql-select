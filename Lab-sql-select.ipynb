{
 "cells": [
  {
   "cell_type": "markdown",
   "metadata": {},
   "source": [
    "### Setup the connection "
   ]
  },
  {
   "cell_type": "code",
   "execution_count": 1,
   "metadata": {
    "ExecuteTime": {
     "end_time": "2020-01-25T17:31:29.953489Z",
     "start_time": "2020-01-25T17:31:29.947500Z"
    }
   },
   "outputs": [],
   "source": [
    "import os\n",
    "os.environ[\"GOOGLE_APPLICATION_CREDENTIALS\"]=\"/Users/inesgalofrebofill/Documents/Ironhack/ironhack_service_account_big_query.json\""
   ]
  },
  {
   "cell_type": "code",
   "execution_count": 2,
   "metadata": {
    "ExecuteTime": {
     "end_time": "2020-01-25T17:31:30.360231Z",
     "start_time": "2020-01-25T17:31:30.337074Z"
    }
   },
   "outputs": [
    {
     "data": {
      "text/plain": [
       "<module 'six' from '/usr/local/lib/python3.7/site-packages/six.py'>"
      ]
     },
     "execution_count": 2,
     "metadata": {},
     "output_type": "execute_result"
    }
   ],
   "source": [
    "import six\n",
    "six.moves.reload_module(six)"
   ]
  },
  {
   "cell_type": "code",
   "execution_count": 3,
   "metadata": {
    "ExecuteTime": {
     "end_time": "2020-01-25T17:31:31.845898Z",
     "start_time": "2020-01-25T17:31:30.627744Z"
    }
   },
   "outputs": [],
   "source": [
    "from google.cloud import bigquery"
   ]
  },
  {
   "cell_type": "code",
   "execution_count": 4,
   "metadata": {
    "ExecuteTime": {
     "end_time": "2020-01-25T17:31:31.892805Z",
     "start_time": "2020-01-25T17:31:31.873266Z"
    }
   },
   "outputs": [],
   "source": [
    "client = bigquery.Client()"
   ]
  },
  {
   "cell_type": "markdown",
   "metadata": {},
   "source": [
    "### Challenge 1 - Who Have Published What At Where?"
   ]
  },
  {
   "cell_type": "code",
   "execution_count": 5,
   "metadata": {
    "ExecuteTime": {
     "end_time": "2020-01-25T17:31:31.954251Z",
     "start_time": "2020-01-25T17:31:31.948769Z"
    }
   },
   "outputs": [],
   "source": [
    "query_1='''\n",
    "SELECT \n",
    "    a.au_id AS author_id\n",
    "    , au_lname AS last_name\n",
    "    , au_fname AS first_name\n",
    "    , t.title AS title\n",
    "    , p.pub_name AS publisher\n",
    "FROM  \n",
    "    `ironhack-data-analytics-265219.publications.authors` a\n",
    "INNER JOIN \n",
    "    `ironhack-data-analytics-265219.publications.titleauthor` ta \n",
    "ON\n",
    "    a.au_id=ta.au_id\n",
    "INNER JOIN \n",
    "    `ironhack-data-analytics-265219.publications.titles` t \n",
    "ON \n",
    "    ta.title_id=t.title_id\n",
    "INNER JOIN\n",
    "    `ironhack-data-analytics-265219.publications.publishers` p \n",
    "ON \n",
    "    t.pub_id=p.pub_id\n",
    "'''"
   ]
  },
  {
   "cell_type": "code",
   "execution_count": 6,
   "metadata": {
    "ExecuteTime": {
     "end_time": "2020-01-25T17:31:33.030400Z",
     "start_time": "2020-01-25T17:31:31.983322Z"
    }
   },
   "outputs": [],
   "source": [
    "query_job_1 = client.query(query=query_1)"
   ]
  },
  {
   "cell_type": "code",
   "execution_count": 7,
   "metadata": {
    "ExecuteTime": {
     "end_time": "2020-01-25T17:31:34.984821Z",
     "start_time": "2020-01-25T17:31:33.066833Z"
    }
   },
   "outputs": [],
   "source": [
    "df_1=query_job_1.to_dataframe()"
   ]
  },
  {
   "cell_type": "code",
   "execution_count": 8,
   "metadata": {
    "ExecuteTime": {
     "end_time": "2020-01-25T17:31:35.057283Z",
     "start_time": "2020-01-25T17:31:35.035470Z"
    }
   },
   "outputs": [
    {
     "data": {
      "text/html": [
       "<div>\n",
       "<style scoped>\n",
       "    .dataframe tbody tr th:only-of-type {\n",
       "        vertical-align: middle;\n",
       "    }\n",
       "\n",
       "    .dataframe tbody tr th {\n",
       "        vertical-align: top;\n",
       "    }\n",
       "\n",
       "    .dataframe thead th {\n",
       "        text-align: right;\n",
       "    }\n",
       "</style>\n",
       "<table border=\"1\" class=\"dataframe\">\n",
       "  <thead>\n",
       "    <tr style=\"text-align: right;\">\n",
       "      <th></th>\n",
       "      <th>author_id</th>\n",
       "      <th>last_name</th>\n",
       "      <th>first_name</th>\n",
       "      <th>title</th>\n",
       "      <th>publisher</th>\n",
       "    </tr>\n",
       "  </thead>\n",
       "  <tbody>\n",
       "    <tr>\n",
       "      <th>0</th>\n",
       "      <td>807-91-6654</td>\n",
       "      <td>Panteley</td>\n",
       "      <td>Sylvia</td>\n",
       "      <td>Onions, Leeks, and Garlic: Cooking Secrets of ...</td>\n",
       "      <td>Binnet &amp; Hardley</td>\n",
       "    </tr>\n",
       "    <tr>\n",
       "      <th>1</th>\n",
       "      <td>722-51-5454</td>\n",
       "      <td>DeFrance</td>\n",
       "      <td>Michel</td>\n",
       "      <td>The Gourmet Microwave</td>\n",
       "      <td>Binnet &amp; Hardley</td>\n",
       "    </tr>\n",
       "    <tr>\n",
       "      <th>2</th>\n",
       "      <td>712-45-1867</td>\n",
       "      <td>del Castillo</td>\n",
       "      <td>Innes</td>\n",
       "      <td>Silicon Valley Gastronomic Treats</td>\n",
       "      <td>Binnet &amp; Hardley</td>\n",
       "    </tr>\n",
       "    <tr>\n",
       "      <th>3</th>\n",
       "      <td>899-46-2035</td>\n",
       "      <td>Ringer</td>\n",
       "      <td>Anne</td>\n",
       "      <td>Is Anger the Enemy?</td>\n",
       "      <td>New Moon Books</td>\n",
       "    </tr>\n",
       "    <tr>\n",
       "      <th>4</th>\n",
       "      <td>899-46-2035</td>\n",
       "      <td>Ringer</td>\n",
       "      <td>Anne</td>\n",
       "      <td>The Gourmet Microwave</td>\n",
       "      <td>Binnet &amp; Hardley</td>\n",
       "    </tr>\n",
       "    <tr>\n",
       "      <th>5</th>\n",
       "      <td>998-72-3567</td>\n",
       "      <td>Ringer</td>\n",
       "      <td>Albert</td>\n",
       "      <td>Is Anger the Enemy?</td>\n",
       "      <td>New Moon Books</td>\n",
       "    </tr>\n",
       "    <tr>\n",
       "      <th>6</th>\n",
       "      <td>998-72-3567</td>\n",
       "      <td>Ringer</td>\n",
       "      <td>Albert</td>\n",
       "      <td>Life Without Fear</td>\n",
       "      <td>New Moon Books</td>\n",
       "    </tr>\n",
       "    <tr>\n",
       "      <th>7</th>\n",
       "      <td>172-32-1176</td>\n",
       "      <td>White</td>\n",
       "      <td>Johnson</td>\n",
       "      <td>Prolonged Data Deprivation: Four Case Studies</td>\n",
       "      <td>New Moon Books</td>\n",
       "    </tr>\n",
       "    <tr>\n",
       "      <th>8</th>\n",
       "      <td>486-29-1786</td>\n",
       "      <td>Locksley</td>\n",
       "      <td>Charlene</td>\n",
       "      <td>Emotional Security: A New Algorithm</td>\n",
       "      <td>New Moon Books</td>\n",
       "    </tr>\n",
       "    <tr>\n",
       "      <th>9</th>\n",
       "      <td>486-29-1786</td>\n",
       "      <td>Locksley</td>\n",
       "      <td>Charlene</td>\n",
       "      <td>Net Etiquette</td>\n",
       "      <td>Algodata Infosystems</td>\n",
       "    </tr>\n",
       "  </tbody>\n",
       "</table>\n",
       "</div>"
      ],
      "text/plain": [
       "     author_id     last_name first_name  \\\n",
       "0  807-91-6654      Panteley     Sylvia   \n",
       "1  722-51-5454      DeFrance     Michel   \n",
       "2  712-45-1867  del Castillo      Innes   \n",
       "3  899-46-2035        Ringer       Anne   \n",
       "4  899-46-2035        Ringer       Anne   \n",
       "5  998-72-3567        Ringer     Albert   \n",
       "6  998-72-3567        Ringer     Albert   \n",
       "7  172-32-1176         White    Johnson   \n",
       "8  486-29-1786      Locksley   Charlene   \n",
       "9  486-29-1786      Locksley   Charlene   \n",
       "\n",
       "                                               title             publisher  \n",
       "0  Onions, Leeks, and Garlic: Cooking Secrets of ...      Binnet & Hardley  \n",
       "1                              The Gourmet Microwave      Binnet & Hardley  \n",
       "2                  Silicon Valley Gastronomic Treats      Binnet & Hardley  \n",
       "3                                Is Anger the Enemy?        New Moon Books  \n",
       "4                              The Gourmet Microwave      Binnet & Hardley  \n",
       "5                                Is Anger the Enemy?        New Moon Books  \n",
       "6                                  Life Without Fear        New Moon Books  \n",
       "7      Prolonged Data Deprivation: Four Case Studies        New Moon Books  \n",
       "8                Emotional Security: A New Algorithm        New Moon Books  \n",
       "9                                      Net Etiquette  Algodata Infosystems  "
      ]
     },
     "execution_count": 8,
     "metadata": {},
     "output_type": "execute_result"
    }
   ],
   "source": [
    "df_1.head(10)"
   ]
  },
  {
   "cell_type": "code",
   "execution_count": 9,
   "metadata": {
    "ExecuteTime": {
     "end_time": "2020-01-25T17:31:35.103959Z",
     "start_time": "2020-01-25T17:31:35.096094Z"
    }
   },
   "outputs": [],
   "source": [
    "query_2='''\n",
    "SELECT \n",
    "    COUNT(*) AS vol\n",
    "FROM  \n",
    "     `ironhack-data-analytics-265219.publications.titleauthor`\n",
    "'''"
   ]
  },
  {
   "cell_type": "code",
   "execution_count": 10,
   "metadata": {
    "ExecuteTime": {
     "end_time": "2020-01-25T17:31:35.615871Z",
     "start_time": "2020-01-25T17:31:35.198916Z"
    }
   },
   "outputs": [],
   "source": [
    "query_job_2 = client.query(query=query_2)"
   ]
  },
  {
   "cell_type": "code",
   "execution_count": 11,
   "metadata": {
    "ExecuteTime": {
     "end_time": "2020-01-25T17:31:37.873092Z",
     "start_time": "2020-01-25T17:31:35.657549Z"
    }
   },
   "outputs": [
    {
     "data": {
      "text/html": [
       "<div>\n",
       "<style scoped>\n",
       "    .dataframe tbody tr th:only-of-type {\n",
       "        vertical-align: middle;\n",
       "    }\n",
       "\n",
       "    .dataframe tbody tr th {\n",
       "        vertical-align: top;\n",
       "    }\n",
       "\n",
       "    .dataframe thead th {\n",
       "        text-align: right;\n",
       "    }\n",
       "</style>\n",
       "<table border=\"1\" class=\"dataframe\">\n",
       "  <thead>\n",
       "    <tr style=\"text-align: right;\">\n",
       "      <th></th>\n",
       "      <th>vol</th>\n",
       "    </tr>\n",
       "  </thead>\n",
       "  <tbody>\n",
       "    <tr>\n",
       "      <th>0</th>\n",
       "      <td>25</td>\n",
       "    </tr>\n",
       "  </tbody>\n",
       "</table>\n",
       "</div>"
      ],
      "text/plain": [
       "   vol\n",
       "0   25"
      ]
     },
     "execution_count": 11,
     "metadata": {},
     "output_type": "execute_result"
    }
   ],
   "source": [
    "df_2=query_job_2.to_dataframe()\n",
    "df_2"
   ]
  },
  {
   "cell_type": "code",
   "execution_count": 12,
   "metadata": {
    "ExecuteTime": {
     "end_time": "2020-01-25T17:31:37.943863Z",
     "start_time": "2020-01-25T17:31:37.929716Z"
    }
   },
   "outputs": [
    {
     "data": {
      "text/plain": [
       "author_id     25\n",
       "last_name     25\n",
       "first_name    25\n",
       "title         25\n",
       "publisher     25\n",
       "dtype: int64"
      ]
     },
     "execution_count": 12,
     "metadata": {},
     "output_type": "execute_result"
    }
   ],
   "source": [
    "df_1.count()"
   ]
  },
  {
   "cell_type": "markdown",
   "metadata": {},
   "source": [
    "### Challenge 2 - Who Have Published How Many At Where?"
   ]
  },
  {
   "cell_type": "code",
   "execution_count": 13,
   "metadata": {
    "ExecuteTime": {
     "end_time": "2020-01-25T17:31:38.023836Z",
     "start_time": "2020-01-25T17:31:38.010596Z"
    }
   },
   "outputs": [],
   "source": [
    "query_3='''\n",
    "SELECT\n",
    "    a.au_id AS author_id\n",
    "    , au_lname AS last_name\n",
    "    , au_fname AS first_name\n",
    "    , p.pub_name AS publisher\n",
    "    , COUNT(t.title_id) AS title_count\n",
    "FROM\n",
    "    `ironhack-data-analytics-265219.publications.authors` a\n",
    "INNER JOIN\n",
    "    `ironhack-data-analytics-265219.publications.titleauthor` ta \n",
    "ON\n",
    "    a.au_id=ta.au_id\n",
    "INNER JOIN \n",
    "    `ironhack-data-analytics-265219.publications.titles` t \n",
    "ON\n",
    "    ta.title_id=t.title_id\n",
    "INNER JOIN\n",
    "    `ironhack-data-analytics-265219.publications.publishers` p \n",
    "ON\n",
    "    t.pub_id=p.pub_id\n",
    "GROUP BY\n",
    "    1,2,3,4\n",
    "    '''"
   ]
  },
  {
   "cell_type": "code",
   "execution_count": 14,
   "metadata": {
    "ExecuteTime": {
     "end_time": "2020-01-25T17:31:38.460912Z",
     "start_time": "2020-01-25T17:31:38.083620Z"
    }
   },
   "outputs": [],
   "source": [
    "query_job_3 = client.query(query=query_3)"
   ]
  },
  {
   "cell_type": "code",
   "execution_count": 15,
   "metadata": {
    "ExecuteTime": {
     "end_time": "2020-01-25T17:31:40.705213Z",
     "start_time": "2020-01-25T17:31:38.513990Z"
    }
   },
   "outputs": [
    {
     "data": {
      "text/html": [
       "<div>\n",
       "<style scoped>\n",
       "    .dataframe tbody tr th:only-of-type {\n",
       "        vertical-align: middle;\n",
       "    }\n",
       "\n",
       "    .dataframe tbody tr th {\n",
       "        vertical-align: top;\n",
       "    }\n",
       "\n",
       "    .dataframe thead th {\n",
       "        text-align: right;\n",
       "    }\n",
       "</style>\n",
       "<table border=\"1\" class=\"dataframe\">\n",
       "  <thead>\n",
       "    <tr style=\"text-align: right;\">\n",
       "      <th></th>\n",
       "      <th>author_id</th>\n",
       "      <th>last_name</th>\n",
       "      <th>first_name</th>\n",
       "      <th>publisher</th>\n",
       "      <th>title_count</th>\n",
       "    </tr>\n",
       "  </thead>\n",
       "  <tbody>\n",
       "    <tr>\n",
       "      <th>0</th>\n",
       "      <td>807-91-6654</td>\n",
       "      <td>Panteley</td>\n",
       "      <td>Sylvia</td>\n",
       "      <td>Binnet &amp; Hardley</td>\n",
       "      <td>1</td>\n",
       "    </tr>\n",
       "    <tr>\n",
       "      <th>1</th>\n",
       "      <td>722-51-5454</td>\n",
       "      <td>DeFrance</td>\n",
       "      <td>Michel</td>\n",
       "      <td>Binnet &amp; Hardley</td>\n",
       "      <td>1</td>\n",
       "    </tr>\n",
       "    <tr>\n",
       "      <th>2</th>\n",
       "      <td>712-45-1867</td>\n",
       "      <td>del Castillo</td>\n",
       "      <td>Innes</td>\n",
       "      <td>Binnet &amp; Hardley</td>\n",
       "      <td>1</td>\n",
       "    </tr>\n",
       "    <tr>\n",
       "      <th>3</th>\n",
       "      <td>899-46-2035</td>\n",
       "      <td>Ringer</td>\n",
       "      <td>Anne</td>\n",
       "      <td>New Moon Books</td>\n",
       "      <td>1</td>\n",
       "    </tr>\n",
       "    <tr>\n",
       "      <th>4</th>\n",
       "      <td>899-46-2035</td>\n",
       "      <td>Ringer</td>\n",
       "      <td>Anne</td>\n",
       "      <td>Binnet &amp; Hardley</td>\n",
       "      <td>1</td>\n",
       "    </tr>\n",
       "    <tr>\n",
       "      <th>5</th>\n",
       "      <td>998-72-3567</td>\n",
       "      <td>Ringer</td>\n",
       "      <td>Albert</td>\n",
       "      <td>New Moon Books</td>\n",
       "      <td>2</td>\n",
       "    </tr>\n",
       "    <tr>\n",
       "      <th>6</th>\n",
       "      <td>172-32-1176</td>\n",
       "      <td>White</td>\n",
       "      <td>Johnson</td>\n",
       "      <td>New Moon Books</td>\n",
       "      <td>1</td>\n",
       "    </tr>\n",
       "    <tr>\n",
       "      <th>7</th>\n",
       "      <td>486-29-1786</td>\n",
       "      <td>Locksley</td>\n",
       "      <td>Charlene</td>\n",
       "      <td>New Moon Books</td>\n",
       "      <td>1</td>\n",
       "    </tr>\n",
       "    <tr>\n",
       "      <th>8</th>\n",
       "      <td>486-29-1786</td>\n",
       "      <td>Locksley</td>\n",
       "      <td>Charlene</td>\n",
       "      <td>Algodata Infosystems</td>\n",
       "      <td>1</td>\n",
       "    </tr>\n",
       "    <tr>\n",
       "      <th>9</th>\n",
       "      <td>846-92-7186</td>\n",
       "      <td>Hunter</td>\n",
       "      <td>Sheryl</td>\n",
       "      <td>Algodata Infosystems</td>\n",
       "      <td>1</td>\n",
       "    </tr>\n",
       "  </tbody>\n",
       "</table>\n",
       "</div>"
      ],
      "text/plain": [
       "     author_id     last_name first_name             publisher  title_count\n",
       "0  807-91-6654      Panteley     Sylvia      Binnet & Hardley            1\n",
       "1  722-51-5454      DeFrance     Michel      Binnet & Hardley            1\n",
       "2  712-45-1867  del Castillo      Innes      Binnet & Hardley            1\n",
       "3  899-46-2035        Ringer       Anne        New Moon Books            1\n",
       "4  899-46-2035        Ringer       Anne      Binnet & Hardley            1\n",
       "5  998-72-3567        Ringer     Albert        New Moon Books            2\n",
       "6  172-32-1176         White    Johnson        New Moon Books            1\n",
       "7  486-29-1786      Locksley   Charlene        New Moon Books            1\n",
       "8  486-29-1786      Locksley   Charlene  Algodata Infosystems            1\n",
       "9  846-92-7186        Hunter     Sheryl  Algodata Infosystems            1"
      ]
     },
     "execution_count": 15,
     "metadata": {},
     "output_type": "execute_result"
    }
   ],
   "source": [
    "df_3=query_job_3.to_dataframe()\n",
    "df_3.head(10)"
   ]
  },
  {
   "cell_type": "markdown",
   "metadata": {},
   "source": [
    "### Challenge 3 - Best Selling Authors"
   ]
  },
  {
   "cell_type": "code",
   "execution_count": 18,
   "metadata": {
    "ExecuteTime": {
     "end_time": "2020-01-25T17:32:06.787307Z",
     "start_time": "2020-01-25T17:32:06.783297Z"
    }
   },
   "outputs": [],
   "source": [
    "query_4='''\n",
    "SELECT\n",
    "    a.au_id AS author_id\n",
    "    , au_lname AS last_name\n",
    "    , au_fname AS first_name\n",
    "    , SUM(s.qty) AS total\n",
    "FROM\n",
    "    `ironhack-data-analytics-265219.publications.authors` a\n",
    "INNER JOIN \n",
    "    `ironhack-data-analytics-265219.publications.titleauthor` ta \n",
    "ON\n",
    "    ta.au_id = a.au_id\n",
    "INNER JOIN\n",
    "    `ironhack-data-analytics-265219.publications.titles` t \n",
    "ON\n",
    "    t.title_id = ta.title_id\n",
    "INNER JOIN\n",
    "    `ironhack-data-analytics-265219.publications.sales` s \n",
    "ON\n",
    "    s.title_id = t.title_id\n",
    "GROUP BY \n",
    "    1,2,3\n",
    "ORDER BY \n",
    "    total DESC\n",
    "LIMIT 5\n",
    "'''"
   ]
  },
  {
   "cell_type": "code",
   "execution_count": 19,
   "metadata": {
    "ExecuteTime": {
     "end_time": "2020-01-25T17:32:08.467422Z",
     "start_time": "2020-01-25T17:32:07.846069Z"
    }
   },
   "outputs": [],
   "source": [
    "query_job_4 = client.query(query=query_4)"
   ]
  },
  {
   "cell_type": "code",
   "execution_count": 20,
   "metadata": {
    "ExecuteTime": {
     "end_time": "2020-01-25T17:32:10.366733Z",
     "start_time": "2020-01-25T17:32:08.663230Z"
    }
   },
   "outputs": [
    {
     "data": {
      "text/html": [
       "<div>\n",
       "<style scoped>\n",
       "    .dataframe tbody tr th:only-of-type {\n",
       "        vertical-align: middle;\n",
       "    }\n",
       "\n",
       "    .dataframe tbody tr th {\n",
       "        vertical-align: top;\n",
       "    }\n",
       "\n",
       "    .dataframe thead th {\n",
       "        text-align: right;\n",
       "    }\n",
       "</style>\n",
       "<table border=\"1\" class=\"dataframe\">\n",
       "  <thead>\n",
       "    <tr style=\"text-align: right;\">\n",
       "      <th></th>\n",
       "      <th>author_id</th>\n",
       "      <th>last_name</th>\n",
       "      <th>first_name</th>\n",
       "      <th>total</th>\n",
       "    </tr>\n",
       "  </thead>\n",
       "  <tbody>\n",
       "    <tr>\n",
       "      <th>0</th>\n",
       "      <td>899-46-2035</td>\n",
       "      <td>Ringer</td>\n",
       "      <td>Anne</td>\n",
       "      <td>148</td>\n",
       "    </tr>\n",
       "    <tr>\n",
       "      <th>1</th>\n",
       "      <td>998-72-3567</td>\n",
       "      <td>Ringer</td>\n",
       "      <td>Albert</td>\n",
       "      <td>133</td>\n",
       "    </tr>\n",
       "    <tr>\n",
       "      <th>2</th>\n",
       "      <td>846-92-7186</td>\n",
       "      <td>Hunter</td>\n",
       "      <td>Sheryl</td>\n",
       "      <td>50</td>\n",
       "    </tr>\n",
       "    <tr>\n",
       "      <th>3</th>\n",
       "      <td>427-17-2319</td>\n",
       "      <td>Dull</td>\n",
       "      <td>Ann</td>\n",
       "      <td>50</td>\n",
       "    </tr>\n",
       "    <tr>\n",
       "      <th>4</th>\n",
       "      <td>213-46-8915</td>\n",
       "      <td>Green</td>\n",
       "      <td>Marjorie</td>\n",
       "      <td>50</td>\n",
       "    </tr>\n",
       "  </tbody>\n",
       "</table>\n",
       "</div>"
      ],
      "text/plain": [
       "     author_id last_name first_name total\n",
       "0  899-46-2035    Ringer       Anne   148\n",
       "1  998-72-3567    Ringer     Albert   133\n",
       "2  846-92-7186    Hunter     Sheryl    50\n",
       "3  427-17-2319      Dull        Ann    50\n",
       "4  213-46-8915     Green   Marjorie    50"
      ]
     },
     "execution_count": 20,
     "metadata": {},
     "output_type": "execute_result"
    }
   ],
   "source": [
    "df_4=query_job_4.to_dataframe()\n",
    "df_4"
   ]
  },
  {
   "cell_type": "markdown",
   "metadata": {},
   "source": [
    "### Challenge 4 - Best Selling Authors Ranking"
   ]
  },
  {
   "cell_type": "code",
   "execution_count": 19,
   "metadata": {},
   "outputs": [],
   "source": [
    "query_5='''\n",
    "SELECT\n",
    "    a.au_id AS author_id\n",
    "    , au_lname AS last_name\n",
    "    , au_fname AS first_name\n",
    "    , COALESCE(SUM(s.qty), 0) AS total\n",
    "FROM\n",
    "    `ironhack-data-analytics-265219.publications.authors` a\n",
    "LEFT JOIN \n",
    "    `ironhack-data-analytics-265219.publications.titleauthor` ta \n",
    "ON\n",
    "    ta.au_id = a.au_id\n",
    "LEFT JOIN\n",
    "    `ironhack-data-analytics-265219.publications.titles` t \n",
    "ON\n",
    "    t.title_id = ta.title_id\n",
    "LEFT JOIN\n",
    "    `ironhack-data-analytics-265219.publications.sales` s \n",
    "ON\n",
    "    s.title_id = t.title_id\n",
    "GROUP BY\n",
    "    1,2,3\n",
    "ORDER BY\n",
    "    total DESC;\n",
    "'''"
   ]
  },
  {
   "cell_type": "code",
   "execution_count": 20,
   "metadata": {},
   "outputs": [
    {
     "data": {
      "text/html": [
       "<div>\n",
       "<style scoped>\n",
       "    .dataframe tbody tr th:only-of-type {\n",
       "        vertical-align: middle;\n",
       "    }\n",
       "\n",
       "    .dataframe tbody tr th {\n",
       "        vertical-align: top;\n",
       "    }\n",
       "\n",
       "    .dataframe thead th {\n",
       "        text-align: right;\n",
       "    }\n",
       "</style>\n",
       "<table border=\"1\" class=\"dataframe\">\n",
       "  <thead>\n",
       "    <tr style=\"text-align: right;\">\n",
       "      <th></th>\n",
       "      <th>author_id</th>\n",
       "      <th>last_name</th>\n",
       "      <th>first_name</th>\n",
       "      <th>total</th>\n",
       "    </tr>\n",
       "  </thead>\n",
       "  <tbody>\n",
       "    <tr>\n",
       "      <td>0</td>\n",
       "      <td>899-46-2035</td>\n",
       "      <td>Ringer</td>\n",
       "      <td>Anne</td>\n",
       "      <td>148</td>\n",
       "    </tr>\n",
       "    <tr>\n",
       "      <td>1</td>\n",
       "      <td>998-72-3567</td>\n",
       "      <td>Ringer</td>\n",
       "      <td>Albert</td>\n",
       "      <td>133</td>\n",
       "    </tr>\n",
       "    <tr>\n",
       "      <td>2</td>\n",
       "      <td>846-92-7186</td>\n",
       "      <td>Hunter</td>\n",
       "      <td>Sheryl</td>\n",
       "      <td>50</td>\n",
       "    </tr>\n",
       "    <tr>\n",
       "      <td>3</td>\n",
       "      <td>427-17-2319</td>\n",
       "      <td>Dull</td>\n",
       "      <td>Ann</td>\n",
       "      <td>50</td>\n",
       "    </tr>\n",
       "    <tr>\n",
       "      <td>4</td>\n",
       "      <td>213-46-8915</td>\n",
       "      <td>Green</td>\n",
       "      <td>Marjorie</td>\n",
       "      <td>50</td>\n",
       "    </tr>\n",
       "    <tr>\n",
       "      <td>5</td>\n",
       "      <td>724-80-9391</td>\n",
       "      <td>MacFeather</td>\n",
       "      <td>Stearns</td>\n",
       "      <td>45</td>\n",
       "    </tr>\n",
       "    <tr>\n",
       "      <td>6</td>\n",
       "      <td>267-41-2394</td>\n",
       "      <td>O'Leary</td>\n",
       "      <td>Michael</td>\n",
       "      <td>45</td>\n",
       "    </tr>\n",
       "    <tr>\n",
       "      <td>7</td>\n",
       "      <td>807-91-6654</td>\n",
       "      <td>Panteley</td>\n",
       "      <td>Sylvia</td>\n",
       "      <td>40</td>\n",
       "    </tr>\n",
       "    <tr>\n",
       "      <td>8</td>\n",
       "      <td>722-51-5454</td>\n",
       "      <td>DeFrance</td>\n",
       "      <td>Michel</td>\n",
       "      <td>40</td>\n",
       "    </tr>\n",
       "    <tr>\n",
       "      <td>9</td>\n",
       "      <td>238-95-7766</td>\n",
       "      <td>Carson</td>\n",
       "      <td>Cheryl</td>\n",
       "      <td>30</td>\n",
       "    </tr>\n",
       "    <tr>\n",
       "      <td>10</td>\n",
       "      <td>486-29-1786</td>\n",
       "      <td>Locksley</td>\n",
       "      <td>Charlene</td>\n",
       "      <td>25</td>\n",
       "    </tr>\n",
       "    <tr>\n",
       "      <td>11</td>\n",
       "      <td>672-71-3249</td>\n",
       "      <td>Yokomoto</td>\n",
       "      <td>Akiko</td>\n",
       "      <td>20</td>\n",
       "    </tr>\n",
       "    <tr>\n",
       "      <td>12</td>\n",
       "      <td>756-30-7391</td>\n",
       "      <td>Karsen</td>\n",
       "      <td>Livia</td>\n",
       "      <td>20</td>\n",
       "    </tr>\n",
       "    <tr>\n",
       "      <td>13</td>\n",
       "      <td>472-27-2349</td>\n",
       "      <td>Gringlesby</td>\n",
       "      <td>Burt</td>\n",
       "      <td>20</td>\n",
       "    </tr>\n",
       "    <tr>\n",
       "      <td>14</td>\n",
       "      <td>648-92-1872</td>\n",
       "      <td>Blotchet-Halls</td>\n",
       "      <td>Reginald</td>\n",
       "      <td>20</td>\n",
       "    </tr>\n",
       "    <tr>\n",
       "      <td>15</td>\n",
       "      <td>172-32-1176</td>\n",
       "      <td>White</td>\n",
       "      <td>Johnson</td>\n",
       "      <td>15</td>\n",
       "    </tr>\n",
       "    <tr>\n",
       "      <td>16</td>\n",
       "      <td>274-80-9391</td>\n",
       "      <td>Straight</td>\n",
       "      <td>Dean</td>\n",
       "      <td>15</td>\n",
       "    </tr>\n",
       "    <tr>\n",
       "      <td>17</td>\n",
       "      <td>409-56-7008</td>\n",
       "      <td>Bennet</td>\n",
       "      <td>Abraham</td>\n",
       "      <td>15</td>\n",
       "    </tr>\n",
       "    <tr>\n",
       "      <td>18</td>\n",
       "      <td>712-45-1867</td>\n",
       "      <td>del Castillo</td>\n",
       "      <td>Innes</td>\n",
       "      <td>10</td>\n",
       "    </tr>\n",
       "    <tr>\n",
       "      <td>19</td>\n",
       "      <td>527-72-3246</td>\n",
       "      <td>Greene</td>\n",
       "      <td>Morningstar</td>\n",
       "      <td>0</td>\n",
       "    </tr>\n",
       "    <tr>\n",
       "      <td>20</td>\n",
       "      <td>341-22-1782</td>\n",
       "      <td>Smith</td>\n",
       "      <td>Meander</td>\n",
       "      <td>0</td>\n",
       "    </tr>\n",
       "    <tr>\n",
       "      <td>21</td>\n",
       "      <td>724-08-9931</td>\n",
       "      <td>Stringer</td>\n",
       "      <td>Dirk</td>\n",
       "      <td>0</td>\n",
       "    </tr>\n",
       "    <tr>\n",
       "      <td>22</td>\n",
       "      <td>893-72-1158</td>\n",
       "      <td>McBadden</td>\n",
       "      <td>Heather</td>\n",
       "      <td>0</td>\n",
       "    </tr>\n",
       "  </tbody>\n",
       "</table>\n",
       "</div>"
      ],
      "text/plain": [
       "      author_id       last_name   first_name total\n",
       "0   899-46-2035          Ringer         Anne   148\n",
       "1   998-72-3567          Ringer       Albert   133\n",
       "2   846-92-7186          Hunter       Sheryl    50\n",
       "3   427-17-2319            Dull          Ann    50\n",
       "4   213-46-8915           Green     Marjorie    50\n",
       "5   724-80-9391      MacFeather      Stearns    45\n",
       "6   267-41-2394         O'Leary      Michael    45\n",
       "7   807-91-6654        Panteley       Sylvia    40\n",
       "8   722-51-5454        DeFrance       Michel    40\n",
       "9   238-95-7766          Carson       Cheryl    30\n",
       "10  486-29-1786        Locksley     Charlene    25\n",
       "11  672-71-3249        Yokomoto        Akiko    20\n",
       "12  756-30-7391          Karsen        Livia    20\n",
       "13  472-27-2349      Gringlesby         Burt    20\n",
       "14  648-92-1872  Blotchet-Halls     Reginald    20\n",
       "15  172-32-1176           White      Johnson    15\n",
       "16  274-80-9391        Straight         Dean    15\n",
       "17  409-56-7008          Bennet      Abraham    15\n",
       "18  712-45-1867    del Castillo        Innes    10\n",
       "19  527-72-3246          Greene  Morningstar     0\n",
       "20  341-22-1782           Smith      Meander     0\n",
       "21  724-08-9931        Stringer         Dirk     0\n",
       "22  893-72-1158        McBadden      Heather     0"
      ]
     },
     "execution_count": 20,
     "metadata": {},
     "output_type": "execute_result"
    }
   ],
   "source": [
    "query_job_5 = client.query(query=query_5)\n",
    "df_5=query_job_5.to_dataframe()\n",
    "df_5"
   ]
  },
  {
   "cell_type": "markdown",
   "metadata": {},
   "source": [
    "### Bonus Challenge - Most Profiting Authors"
   ]
  },
  {
   "cell_type": "code",
   "execution_count": 21,
   "metadata": {},
   "outputs": [],
   "source": [
    "query_6='''\n",
    "WITH royalties_table AS(\n",
    "SELECT\n",
    "    title_id\n",
    "    , au_id\n",
    "    , au_lname\n",
    "    , au_fname\n",
    "    , advance\n",
    "    , SUM(royalties) AS royalties \n",
    "FROM \n",
    "    (SELECT\n",
    "        t.title_id\n",
    "        , t.price\n",
    "        , t.advance\n",
    "        , t.royalty\n",
    "        , s.qty\n",
    "        , a.au_id\n",
    "        , au_lname\n",
    "        , au_fname\n",
    "        , ta.royaltyper\n",
    "        , (t.price * s.qty * t.royalty * ta.royaltyper / 10000) AS royalties\n",
    "    FROM \n",
    "        `ironhack-data-analytics-265219.publications.titles` t\n",
    "    INNER JOIN\n",
    "        `ironhack-data-analytics-265219.publications.sales` s \n",
    "    ON\n",
    "        s.title_id = t.title_id\n",
    "    INNER JOIN\n",
    "        `ironhack-data-analytics-265219.publications.titleauthor` ta \n",
    "    ON\n",
    "        ta.title_id = s.title_id\n",
    "    INNER JOIN\n",
    "        `ironhack-data-analytics-265219.publications.authors` a \n",
    "    ON\n",
    "        a.au_id = ta.au_id)a\n",
    "GROUP BY\n",
    "    1,2,3,4,5)\n",
    "            SELECT\n",
    "                au_id AS author_id\n",
    "                , au_lname AS last_name\n",
    "                , au_fname AS first_name\n",
    "                , sum(advance + royalties) AS profits\n",
    "            FROM\n",
    "                royalties_table\n",
    "            GROUP BY\n",
    "                1,2,3\n",
    "            ORDER BY\n",
    "                profits DESC\n",
    "            LIMIT 3\n",
    "'''"
   ]
  },
  {
   "cell_type": "code",
   "execution_count": 22,
   "metadata": {},
   "outputs": [
    {
     "data": {
      "text/html": [
       "<div>\n",
       "<style scoped>\n",
       "    .dataframe tbody tr th:only-of-type {\n",
       "        vertical-align: middle;\n",
       "    }\n",
       "\n",
       "    .dataframe tbody tr th {\n",
       "        vertical-align: top;\n",
       "    }\n",
       "\n",
       "    .dataframe thead th {\n",
       "        text-align: right;\n",
       "    }\n",
       "</style>\n",
       "<table border=\"1\" class=\"dataframe\">\n",
       "  <thead>\n",
       "    <tr style=\"text-align: right;\">\n",
       "      <th></th>\n",
       "      <th>author_id</th>\n",
       "      <th>last_name</th>\n",
       "      <th>first_name</th>\n",
       "      <th>profits</th>\n",
       "    </tr>\n",
       "  </thead>\n",
       "  <tbody>\n",
       "    <tr>\n",
       "      <td>0</td>\n",
       "      <td>899-46-2035</td>\n",
       "      <td>Ringer</td>\n",
       "      <td>Anne</td>\n",
       "      <td>17353.132</td>\n",
       "    </tr>\n",
       "    <tr>\n",
       "      <td>1</td>\n",
       "      <td>213-46-8915</td>\n",
       "      <td>Green</td>\n",
       "      <td>Marjorie</td>\n",
       "      <td>15162.110</td>\n",
       "    </tr>\n",
       "    <tr>\n",
       "      <td>2</td>\n",
       "      <td>722-51-5454</td>\n",
       "      <td>DeFrance</td>\n",
       "      <td>Michel</td>\n",
       "      <td>15021.528</td>\n",
       "    </tr>\n",
       "  </tbody>\n",
       "</table>\n",
       "</div>"
      ],
      "text/plain": [
       "     author_id last_name first_name    profits\n",
       "0  899-46-2035    Ringer       Anne  17353.132\n",
       "1  213-46-8915     Green   Marjorie  15162.110\n",
       "2  722-51-5454  DeFrance     Michel  15021.528"
      ]
     },
     "execution_count": 22,
     "metadata": {},
     "output_type": "execute_result"
    }
   ],
   "source": [
    "query_job_6 = client.query(query=query_6)\n",
    "df_6=query_job_6.to_dataframe()\n",
    "df_6"
   ]
  }
 ],
 "metadata": {
  "kernelspec": {
   "display_name": "Python 3",
   "language": "python",
   "name": "python3"
  },
  "language_info": {
   "codemirror_mode": {
    "name": "ipython",
    "version": 3
   },
   "file_extension": ".py",
   "mimetype": "text/x-python",
   "name": "python",
   "nbconvert_exporter": "python",
   "pygments_lexer": "ipython3",
   "version": "3.7.4"
  },
  "toc": {
   "base_numbering": 1,
   "nav_menu": {},
   "number_sections": true,
   "sideBar": true,
   "skip_h1_title": false,
   "title_cell": "Table of Contents",
   "title_sidebar": "Contents",
   "toc_cell": false,
   "toc_position": {},
   "toc_section_display": true,
   "toc_window_display": false
  },
  "varInspector": {
   "cols": {
    "lenName": 16,
    "lenType": 16,
    "lenVar": 40
   },
   "kernels_config": {
    "python": {
     "delete_cmd_postfix": "",
     "delete_cmd_prefix": "del ",
     "library": "var_list.py",
     "varRefreshCmd": "print(var_dic_list())"
    },
    "r": {
     "delete_cmd_postfix": ") ",
     "delete_cmd_prefix": "rm(",
     "library": "var_list.r",
     "varRefreshCmd": "cat(var_dic_list()) "
    }
   },
   "types_to_exclude": [
    "module",
    "function",
    "builtin_function_or_method",
    "instance",
    "_Feature"
   ],
   "window_display": false
  }
 },
 "nbformat": 4,
 "nbformat_minor": 2
}
